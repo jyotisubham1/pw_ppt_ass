{
  "nbformat": 4,
  "nbformat_minor": 0,
  "metadata": {
    "colab": {
      "provenance": [],
      "mount_file_id": "1S7JwiHiHMWEF9Ntim12wabnTZ5UiOCqZ",
      "authorship_tag": "ABX9TyPTA8pnABE3Bmc0UQ7OTfbp",
      "include_colab_link": true
    },
    "kernelspec": {
      "name": "python3",
      "display_name": "Python 3"
    },
    "language_info": {
      "name": "python"
    }
  },
  "cells": [
    {
      "cell_type": "markdown",
      "metadata": {
        "id": "view-in-github",
        "colab_type": "text"
      },
      "source": [
        "<a href=\"https://colab.research.google.com/github/jyotisubham1/pw_ppt_ass/blob/main/ass_1_arrays.ipynb\" target=\"_parent\"><img src=\"https://colab.research.google.com/assets/colab-badge.svg\" alt=\"Open In Colab\"/></a>"
      ]
    },
    {
      "cell_type": "markdown",
      "source": [
        "Q.1"
      ],
      "metadata": {
        "id": "0uNg32eKO9F3"
      }
    },
    {
      "cell_type": "code",
      "source": [
        "def twoSum(nums, target):\n",
        "  sorted_nums = sorted((num, i) for i, num in enumerate(nums))\n",
        "  left = 0\n",
        "  right = len(nums) - 1\n",
        "\n",
        "  while left < right:\n",
        "     curr_sum = sorted_nums[left][0] + sorted_nums[right][0]\n",
        "\n",
        "     if curr_sum == target:\n",
        "      return [sorted_nums[left][1], sorted_nums[right][1]]\n",
        "\n",
        "     elif curr_sum < target:\n",
        "      left += 1\n",
        "\n",
        "     else:\n",
        "      right -= 1\n",
        "\n",
        "  return []\n",
        "\n",
        "nums = [2, 7, 11, 15]\n",
        "target = 9\n",
        "\n",
        "result = twoSum(nums, target)\n",
        "print(result)"
      ],
      "metadata": {
        "colab": {
          "base_uri": "https://localhost:8080/"
        },
        "id": "oqU3Kh2kWQQ2",
        "outputId": "e7b8b33a-d1bb-46b9-da6c-8091cc12f074"
      },
      "execution_count": 11,
      "outputs": [
        {
          "output_type": "stream",
          "name": "stdout",
          "text": [
            "[0, 1]\n"
          ]
        }
      ]
    },
    {
      "cell_type": "markdown",
      "source": [],
      "metadata": {
        "id": "zUI1UoqYYnUO"
      }
    },
    {
      "cell_type": "markdown",
      "source": [
        "Q.2"
      ],
      "metadata": {
        "id": "AG1NR_yPULmh"
      }
    },
    {
      "cell_type": "code",
      "source": [
        "def removeElement(nums, val):\n",
        "  i = len(nums) - 1\n",
        "\n",
        "  for j in range(i, -1, -1):\n",
        "    if nums[j] == val:\n",
        "      nums[j], nums[i] = nums[i], nums[j]\n",
        "      nums.pop()\n",
        "      i -= 1\n",
        "\n",
        "  return len(nums)\n",
        "\n",
        "\n",
        "nums = [3, 2, 2, 3]\n",
        "val = 3\n",
        "\n",
        "result = removeElement(nums, val)\n",
        "print(result)\n",
        "print(nums)\n"
      ],
      "metadata": {
        "colab": {
          "base_uri": "https://localhost:8080/"
        },
        "id": "oS7rLUVOaZ_N",
        "outputId": "03056567-5961-458d-99ea-96435dbb49c3"
      },
      "execution_count": 16,
      "outputs": [
        {
          "output_type": "stream",
          "name": "stdout",
          "text": [
            "2\n",
            "[2, 2]\n"
          ]
        }
      ]
    },
    {
      "cell_type": "markdown",
      "source": [
        "Q.3"
      ],
      "metadata": {
        "id": "v0Rm4OiEd19j"
      }
    },
    {
      "cell_type": "code",
      "source": [
        "import bisect  # bisect is a module that offers binary search functionality for sorted sequences.\n",
        "\n",
        "def searchInsert(nums, target):\n",
        "\n",
        "  return bisect.bisect_left(nums, target)  # bisect_left function allows us to find the index where a given value should be inserted in a sorted sequence to maintaining its sorted order.\n",
        "\n",
        "nums = [1, 3, 5, 6]\n",
        "target = 5\n",
        "\n",
        "result = searchInsert(nums, target)\n",
        "print(result)\n",
        "\n"
      ],
      "metadata": {
        "colab": {
          "base_uri": "https://localhost:8080/"
        },
        "id": "yjak70fnd30W",
        "outputId": "55425897-8162-43db-fcba-16a452ffe027"
      },
      "execution_count": 18,
      "outputs": [
        {
          "output_type": "stream",
          "name": "stdout",
          "text": [
            "2\n"
          ]
        }
      ]
    },
    {
      "cell_type": "markdown",
      "source": [
        "Q.4"
      ],
      "metadata": {
        "id": "mud9zAkegbT5"
      }
    },
    {
      "cell_type": "code",
      "source": [
        "def plusOne(digits):\n",
        "    n = len(digits)\n",
        "    for i in range(n - 1, -1, -1):\n",
        "      digits[i] += 1\n",
        "      if digits[i] == 10:\n",
        "            digits[i] = 0\n",
        "      else:\n",
        "\n",
        "            return digits\n",
        "\n",
        "\n",
        "    return [1] + digits\n",
        "\n",
        "\n",
        "digits = [1, 2, 3]\n",
        "result = plusOne(digits)\n",
        "print(result)\n"
      ],
      "metadata": {
        "colab": {
          "base_uri": "https://localhost:8080/"
        },
        "id": "3EHYePJogaOj",
        "outputId": "2f55a6e3-49f6-4f26-8f89-a9b75dd4be67"
      },
      "execution_count": 25,
      "outputs": [
        {
          "output_type": "stream",
          "name": "stdout",
          "text": [
            "[1, 2, 4]\n"
          ]
        }
      ]
    },
    {
      "cell_type": "markdown",
      "source": [
        "Q.5"
      ],
      "metadata": {
        "id": "ZisGE8gojL_5"
      }
    },
    {
      "cell_type": "code",
      "source": [
        "def merge(nums1, m, nums2, n):\n",
        "\n",
        "  for i in range(n):\n",
        "    nums1[i + m] = nums2[i]\n",
        "\n",
        "  nums1.sort()\n",
        "\n",
        "\n",
        "nums1 = [1, 2, 3, 0, 0, 0]\n",
        "m = 3\n",
        "nums2 = [2, 5, 6]\n",
        "n = 3\n",
        "\n",
        "merge(nums1, m, nums2, n)\n",
        "print(nums1)"
      ],
      "metadata": {
        "colab": {
          "base_uri": "https://localhost:8080/"
        },
        "id": "XWRZkAP7h01K",
        "outputId": "b694ef00-35ec-4c12-9c74-64b3d5dad601"
      },
      "execution_count": 26,
      "outputs": [
        {
          "output_type": "stream",
          "name": "stdout",
          "text": [
            "[1, 2, 2, 3, 5, 6]\n"
          ]
        }
      ]
    },
    {
      "cell_type": "markdown",
      "source": [
        "Q.6"
      ],
      "metadata": {
        "id": "7xjU9RzvlDHq"
      }
    },
    {
      "cell_type": "code",
      "source": [
        "def containsDuplicate(nums):\n",
        "  s = set(nums)\n",
        "\n",
        "  if len(s) == len(nums):\n",
        "    return False\n",
        "  else:\n",
        "    return True\n",
        "\n",
        "nums = [1, 2, 3, 1]\n",
        "result = containsDuplicate(nums)\n",
        "print(result)"
      ],
      "metadata": {
        "colab": {
          "base_uri": "https://localhost:8080/"
        },
        "id": "-eReoQ9zlEt_",
        "outputId": "4cab0a56-c456-43f5-9275-f0bb80a983bc"
      },
      "execution_count": 30,
      "outputs": [
        {
          "output_type": "stream",
          "name": "stdout",
          "text": [
            "True\n"
          ]
        }
      ]
    },
    {
      "cell_type": "markdown",
      "source": [
        "Q.7"
      ],
      "metadata": {
        "id": "2o6t0SxXmCjn"
      }
    },
    {
      "cell_type": "code",
      "source": [
        "def moveZeroes(nums):\n",
        "  nonzeros = [num for num in nums if num != 0]\n",
        "\n",
        "  zeros = [0 for num in nums if num == 0]\n",
        "\n",
        "  nums[:] = nonzeros + zeros  # concatenate both lists and assign it back to nums\n",
        "\n",
        "nums = [0, 1, 0, 3, 12]\n",
        "moveZeroes(nums)\n",
        "print(nums)\n"
      ],
      "metadata": {
        "colab": {
          "base_uri": "https://localhost:8080/"
        },
        "id": "fdMsLbSPmD8T",
        "outputId": "cf7bc4e9-3252-4274-f6e6-c2d60b00b4a4"
      },
      "execution_count": 32,
      "outputs": [
        {
          "output_type": "stream",
          "name": "stdout",
          "text": [
            "[1, 3, 12, 0, 0]\n"
          ]
        }
      ]
    },
    {
      "cell_type": "markdown",
      "source": [
        "Q.8"
      ],
      "metadata": {
        "id": "SGoPejs0nauq"
      }
    },
    {
      "cell_type": "code",
      "source": [
        "def findError(nums):\n",
        "    num_set = set()\n",
        "    duplicate = -1\n",
        "    for num in nums:\n",
        "        if num in num_set:\n",
        "            duplicate = num\n",
        "        num_set.add(num)\n",
        "    for i in range(1, len(nums) + 1):\n",
        "        if i not in num_set:\n",
        "            missing = i\n",
        "            break\n",
        "    return [duplicate, missing]\n",
        "\n",
        "nums = [1, 2, 2, 4]\n",
        "result = findError(nums)\n",
        "print(result)\n"
      ],
      "metadata": {
        "colab": {
          "base_uri": "https://localhost:8080/"
        },
        "id": "u37rRN-incOv",
        "outputId": "f8cfe5c0-4c87-4cd0-aeeb-db0336f91fd5"
      },
      "execution_count": 37,
      "outputs": [
        {
          "output_type": "stream",
          "name": "stdout",
          "text": [
            "[2, 3]\n"
          ]
        }
      ]
    }
  ]
}
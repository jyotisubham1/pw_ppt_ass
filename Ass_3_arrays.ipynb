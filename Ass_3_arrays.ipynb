{
  "nbformat": 4,
  "nbformat_minor": 0,
  "metadata": {
    "colab": {
      "provenance": [],
      "authorship_tag": "ABX9TyNN3uCOj9FmunCRnkT3Joox",
      "include_colab_link": true
    },
    "kernelspec": {
      "name": "python3",
      "display_name": "Python 3"
    },
    "language_info": {
      "name": "python"
    }
  },
  "cells": [
    {
      "cell_type": "markdown",
      "metadata": {
        "id": "view-in-github",
        "colab_type": "text"
      },
      "source": [
        "<a href=\"https://colab.research.google.com/github/jyotisubham1/pw_ppt_ass/blob/main/Ass_3_arrays.ipynb\" target=\"_parent\"><img src=\"https://colab.research.google.com/assets/colab-badge.svg\" alt=\"Open In Colab\"/></a>"
      ]
    },
    {
      "cell_type": "markdown",
      "source": [
        "Q.1"
      ],
      "metadata": {
        "id": "CiHXKkLSbrm3"
      }
    },
    {
      "cell_type": "code",
      "execution_count": 1,
      "metadata": {
        "colab": {
          "base_uri": "https://localhost:8080/"
        },
        "id": "xlQ6agwsaqIR",
        "outputId": "9695bb43-c647-46f6-f59a-3299af942c8e"
      },
      "outputs": [
        {
          "output_type": "stream",
          "name": "stdout",
          "text": [
            "2\n"
          ]
        }
      ],
      "source": [
        "def threeSumClosest(nums, target):\n",
        "    nums.sort()\n",
        "    n = len(nums)\n",
        "    closestSum = float('inf')\n",
        "\n",
        "    for i in range(n - 2):\n",
        "        left = i + 1\n",
        "        right = n - 1\n",
        "        while left < right:\n",
        "            currentSum = nums[i] + nums[left] + nums[right]\n",
        "            if currentSum == target:\n",
        "                return target\n",
        "            if abs(currentSum - target) < abs(closestSum - target):\n",
        "                closestSum = currentSum\n",
        "            if currentSum < target:\n",
        "                left += 1\n",
        "            else:\n",
        "                right -= 1\n",
        "\n",
        "    return closestSum\n",
        "\n",
        "nums = [-1, 2, 1, -4]\n",
        "target = 1\n",
        "result = threeSumClosest(nums, target)\n",
        "print(result)\n"
      ]
    },
    {
      "cell_type": "markdown",
      "source": [
        "Q.2|"
      ],
      "metadata": {
        "id": "a76H5TFmbusx"
      }
    },
    {
      "cell_type": "code",
      "source": [
        "def fourSum(nums, target):\n",
        "    nums.sort()\n",
        "    n = len(nums)\n",
        "    result = []\n",
        "\n",
        "    for first in range(n - 3):\n",
        "        if first > 0 and nums[first] == nums[first - 1]:\n",
        "            continue\n",
        "\n",
        "        for second in range(first + 1, n - 2):\n",
        "            if second > first + 1 and nums[second] == nums[second - 1]:\n",
        "                continue\n",
        "\n",
        "            third = second + 1\n",
        "            fourth = n - 1\n",
        "            while third < fourth:\n",
        "                currentSum = nums[first] + nums[second] + nums[third] + nums[fourth]\n",
        "                if currentSum < target:\n",
        "                    third += 1\n",
        "                elif currentSum > target:\n",
        "                    fourth -= 1\n",
        "                else:\n",
        "                    result.append([nums[first], nums[second], nums[third], nums[fourth]])\n",
        "                    third += 1\n",
        "                    fourth -= 1\n",
        "                    while third < fourth and nums[third] == nums[third - 1]:\n",
        "                        third += 1\n",
        "                    while third < fourth and nums[fourth] == nums[fourth + 1]:\n",
        "                        fourth -= 1\n",
        "\n",
        "    return result\n",
        "\n",
        "\n",
        "nums = [1, 0, -1, 0, -2, 2]\n",
        "target = 0\n",
        "result = fourSum(nums, target)\n",
        "print(result)\n"
      ],
      "metadata": {
        "colab": {
          "base_uri": "https://localhost:8080/"
        },
        "id": "ZWsyCOxabt2K",
        "outputId": "a8b99397-c428-492e-a7d2-eebf719e2ca2"
      },
      "execution_count": 2,
      "outputs": [
        {
          "output_type": "stream",
          "name": "stdout",
          "text": [
            "[[-2, -1, 1, 2], [-2, 0, 0, 2], [-1, 0, 0, 1]]\n"
          ]
        }
      ]
    },
    {
      "cell_type": "markdown",
      "source": [
        "Q.3"
      ],
      "metadata": {
        "id": "SVDm2OrsbvRA"
      }
    },
    {
      "cell_type": "code",
      "source": [
        "def nextPermutation(nums):\n",
        "    n = len(nums)\n",
        "    i = n - 2\n",
        "\n",
        "    # Finding the first pair of adjacent elements in descending order\n",
        "    while i >= 0 and nums[i] >= nums[i + 1]:\n",
        "        i -= 1\n",
        "\n",
        "    if i >= 0:\n",
        "        # Finding the smallest element greater than nums[i] to its right\n",
        "        j = n - 1\n",
        "        while j > i and nums[j] <= nums[i]:\n",
        "            j -= 1\n",
        "        # Swaping nums[i] and nums[j]\n",
        "        nums[i], nums[j] = nums[j], nums[i]\n",
        "\n",
        "    # Reverseing the subarray to the right of nums[i]\n",
        "    left = i + 1\n",
        "    right = n - 1\n",
        "    while left < right:\n",
        "        nums[left], nums[right] = nums[right], nums[left]\n",
        "        left += 1\n",
        "        right -= 1\n",
        "\n",
        "    return nums\n",
        "\n",
        "\n",
        "nums = [1, 2, 3]\n",
        "result = nextPermutation(nums)\n",
        "print(result)\n"
      ],
      "metadata": {
        "colab": {
          "base_uri": "https://localhost:8080/"
        },
        "id": "okiV-TjibvxI",
        "outputId": "a7257511-5512-40fd-f055-15ad0f3436f6"
      },
      "execution_count": 9,
      "outputs": [
        {
          "output_type": "stream",
          "name": "stdout",
          "text": [
            "[1, 3, 2]\n"
          ]
        }
      ]
    },
    {
      "cell_type": "markdown",
      "source": [
        "Q.4"
      ],
      "metadata": {
        "id": "US2aqr_Ebv-D"
      }
    },
    {
      "cell_type": "code",
      "source": [
        "def searchInsert(nums, target):\n",
        "    left = 0\n",
        "    right = len(nums) - 1\n",
        "\n",
        "    while left <= right:\n",
        "        mid = left + (right - left) // 2\n",
        "        if nums[mid] == target:\n",
        "            return mid\n",
        "        elif nums[mid] < target:\n",
        "            left = mid + 1\n",
        "        else:\n",
        "            right = mid - 1\n",
        "\n",
        "    return left\n",
        "\n",
        "\n",
        "nums = [1, 3, 5, 6]\n",
        "target = 5\n",
        "result = searchInsert(nums, target)\n",
        "print(result)\n"
      ],
      "metadata": {
        "colab": {
          "base_uri": "https://localhost:8080/"
        },
        "id": "NDT8hDp7bwKH",
        "outputId": "f2105e18-87df-4fe1-fa7c-0cb365392400"
      },
      "execution_count": 4,
      "outputs": [
        {
          "output_type": "stream",
          "name": "stdout",
          "text": [
            "2\n"
          ]
        }
      ]
    },
    {
      "cell_type": "markdown",
      "source": [
        "Q.5"
      ],
      "metadata": {
        "id": "g5KppJjPbwVe"
      }
    },
    {
      "cell_type": "code",
      "source": [
        "def plusOne(digits):\n",
        "    carry = 1\n",
        "    n = len(digits)\n",
        "\n",
        "    for i in range(n - 1, -1, -1):\n",
        "        digits[i] += carry\n",
        "        if digits[i] < 10:\n",
        "            carry = 0\n",
        "            break\n",
        "        digits[i] = 0\n",
        "\n",
        "    if carry == 1:\n",
        "        digits.insert(0, 1)\n",
        "\n",
        "    return digits\n",
        "\n",
        "\n",
        "digits = [1, 2, 3]\n",
        "result = plusOne(digits)\n",
        "print(result)\n"
      ],
      "metadata": {
        "colab": {
          "base_uri": "https://localhost:8080/"
        },
        "id": "9nQptP_Kbwfm",
        "outputId": "96fd517e-5570-46fe-ea41-3a095d218c0c"
      },
      "execution_count": 5,
      "outputs": [
        {
          "output_type": "stream",
          "name": "stdout",
          "text": [
            "[1, 2, 4]\n"
          ]
        }
      ]
    },
    {
      "cell_type": "markdown",
      "source": [
        "Q.6"
      ],
      "metadata": {
        "id": "Pg_1Odr3bwq2"
      }
    },
    {
      "cell_type": "code",
      "source": [
        "def singleNumber(nums):\n",
        "    result = 0\n",
        "    for num in nums:\n",
        "        result ^= num\n",
        "    return result\n",
        "\n",
        "\n",
        "nums = [2, 2, 1]\n",
        "result = singleNumber(nums)\n",
        "print(result)\n"
      ],
      "metadata": {
        "colab": {
          "base_uri": "https://localhost:8080/"
        },
        "id": "t5-Yi9Aubw1f",
        "outputId": "263caf79-ef13-4b9a-aa57-9db0d9c72ebc"
      },
      "execution_count": 6,
      "outputs": [
        {
          "output_type": "stream",
          "name": "stdout",
          "text": [
            "1\n"
          ]
        }
      ]
    },
    {
      "cell_type": "markdown",
      "source": [
        "Q.7"
      ],
      "metadata": {
        "id": "acTmd_OmbxA-"
      }
    },
    {
      "cell_type": "code",
      "source": [
        "def findMissingRanges(nums, lower, upper):\n",
        "    missing_ranges = []\n",
        "    start = lower\n",
        "\n",
        "    for num in nums:\n",
        "        if num > start:\n",
        "            missing_ranges.append([start, num - 1])\n",
        "        start = num + 1\n",
        "\n",
        "    if start <= upper:\n",
        "        missing_ranges.append([start, upper])\n",
        "\n",
        "    return missing_ranges\n",
        "\n",
        "\n",
        "nums = [0, 1, 3, 50, 75]\n",
        "lower = 0\n",
        "upper = 99\n",
        "result = findMissingRanges(nums, lower, upper)\n",
        "print(result)\n"
      ],
      "metadata": {
        "colab": {
          "base_uri": "https://localhost:8080/"
        },
        "id": "jl1NaYDlbxLW",
        "outputId": "bc3e5c49-5495-4ba5-d171-dccf9ef9c1c0"
      },
      "execution_count": 7,
      "outputs": [
        {
          "output_type": "stream",
          "name": "stdout",
          "text": [
            "[[2, 2], [4, 49], [51, 74], [76, 99]]\n"
          ]
        }
      ]
    },
    {
      "cell_type": "markdown",
      "source": [
        "Q.8"
      ],
      "metadata": {
        "id": "CcadIw2ZbxWf"
      }
    },
    {
      "cell_type": "code",
      "source": [
        "def canAttendMeetings(intervals):\n",
        "    intervals.sort(key=lambda x: x[0])  # Sorting intervals based on start time\n",
        "\n",
        "    for i in range(1, len(intervals)):\n",
        "        if intervals[i][0] < intervals[i-1][1]:\n",
        "            return False\n",
        "\n",
        "    return True\n",
        "\n",
        "\n",
        "intervals = [[0, 30], [5, 10], [15, 20]]\n",
        "result = canAttendMeetings(intervals)\n",
        "print(result)\n"
      ],
      "metadata": {
        "colab": {
          "base_uri": "https://localhost:8080/"
        },
        "id": "pH73-Xtibxhw",
        "outputId": "a0671352-e439-4996-81df-6e689bca06e5"
      },
      "execution_count": 8,
      "outputs": [
        {
          "output_type": "stream",
          "name": "stdout",
          "text": [
            "False\n"
          ]
        }
      ]
    }
  ]
}
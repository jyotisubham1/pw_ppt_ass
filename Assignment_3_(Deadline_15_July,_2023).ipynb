{
  "nbformat": 4,
  "nbformat_minor": 0,
  "metadata": {
    "colab": {
      "provenance": [],
      "authorship_tag": "ABX9TyOt9zE7lnD+4M6yTzk4NrVh",
      "include_colab_link": true
    },
    "kernelspec": {
      "name": "python3",
      "display_name": "Python 3"
    },
    "language_info": {
      "name": "python"
    }
  },
  "cells": [
    {
      "cell_type": "markdown",
      "metadata": {
        "id": "view-in-github",
        "colab_type": "text"
      },
      "source": [
        "<a href=\"https://colab.research.google.com/github/jyotisubham1/pw_ppt_ass/blob/main/Assignment_3_(Deadline_15_July%2C_2023).ipynb\" target=\"_parent\"><img src=\"https://colab.research.google.com/assets/colab-badge.svg\" alt=\"Open In Colab\"/></a>"
      ]
    },
    {
      "cell_type": "markdown",
      "source": [
        "1. Scenario: A company wants to analyze the sales performance of its products in different regions. They have collected the following data:\n",
        "   Region A: [10, 15, 12, 8, 14]\n",
        "   Region B: [18, 20, 16, 22, 25]\n",
        "   Calculate the mean sales for each region.\n"
      ],
      "metadata": {
        "id": "uBFnzv0vBOd5"
      }
    },
    {
      "cell_type": "code",
      "source": [
        "# Sales data for Region A and Region B\n",
        "sales_region_a = [10, 15, 12, 8, 14]\n",
        "sales_region_b = [18, 20, 16, 22, 25]\n",
        "\n",
        "# Calculate the mean sales for Region A\n",
        "mean_sales_region_a = sum(sales_region_a) / len(sales_region_a)\n",
        "\n",
        "# Calculate the mean sales for Region B\n",
        "mean_sales_region_b = sum(sales_region_b) / len(sales_region_b)\n",
        "\n",
        "# Print the results\n",
        "print(\"Mean sales for Region A:\", mean_sales_region_a)\n",
        "print(\"Mean sales for Region B:\", mean_sales_region_b)\n"
      ],
      "metadata": {
        "colab": {
          "base_uri": "https://localhost:8080/"
        },
        "id": "RsoafE6uBL_r",
        "outputId": "aec2fcf2-8de9-482c-8bc1-edf3a4837e8c"
      },
      "execution_count": 2,
      "outputs": [
        {
          "output_type": "stream",
          "name": "stdout",
          "text": [
            "Mean sales for Region A: 11.8\n",
            "Mean sales for Region B: 20.2\n"
          ]
        }
      ]
    },
    {
      "cell_type": "markdown",
      "source": [
        "2. Scenario: A survey is conducted to measure customer satisfaction on a scale of 1 to 5. The data collected is as follows:\n",
        "   [4, 5, 2, 3, 5, 4, 3, 2, 4, 5]\n",
        "   Calculate the mode of the survey responses.\n"
      ],
      "metadata": {
        "id": "kkzz59MuBTl-"
      }
    },
    {
      "cell_type": "code",
      "source": [
        "from statistics import mode\n",
        "\n",
        "survey_responses = [4, 5, 2, 3, 5, 4, 3, 2, 4, 5]\n",
        "\n",
        "mode_response = mode(survey_responses)\n",
        "\n",
        "print(\"Mode of survey responses:\", mode_response)\n"
      ],
      "metadata": {
        "colab": {
          "base_uri": "https://localhost:8080/"
        },
        "id": "yyZnEfWuBXUt",
        "outputId": "5f0e21cd-5516-4bc3-8a70-e556f80f442d"
      },
      "execution_count": 3,
      "outputs": [
        {
          "output_type": "stream",
          "name": "stdout",
          "text": [
            "Mode of survey responses: 4\n"
          ]
        }
      ]
    },
    {
      "cell_type": "markdown",
      "source": [
        "3. Scenario: A company wants to compare the salaries of two departments. The salary data for Department A and Department B are as follows:\n",
        "   Department A: [5000, 6000, 5500, 7000]\n",
        "   Department B: [4500, 5500, 5800, 6000, 5200]\n",
        "   Calculate the median salary for each department.\n"
      ],
      "metadata": {
        "id": "a4WxsbD2Bn1Z"
      }
    },
    {
      "cell_type": "code",
      "source": [
        "from statistics import median\n",
        "\n",
        "salary_department_a = [5000, 6000, 5500, 7000]\n",
        "salary_department_b = [4500, 5500, 5800, 6000, 5200]\n",
        "\n",
        "median_salary_department_a = median(salary_department_a)\n",
        "median_salary_department_b = median(salary_department_b)\n",
        "\n",
        "print(\"Median salary for Department A:\", median_salary_department_a)\n",
        "print(\"Median salary for Department B:\", median_salary_department_b)\n"
      ],
      "metadata": {
        "colab": {
          "base_uri": "https://localhost:8080/"
        },
        "id": "Q7mTbKsPBrIM",
        "outputId": "47d2f6a0-c676-4aac-a941-baa9beadf540"
      },
      "execution_count": 4,
      "outputs": [
        {
          "output_type": "stream",
          "name": "stdout",
          "text": [
            "Median salary for Department A: 5750.0\n",
            "Median salary for Department B: 5500\n"
          ]
        }
      ]
    },
    {
      "cell_type": "markdown",
      "source": [
        "4. Scenario: A data analyst wants to determine the variability in the daily stock prices of a company. The data collected is as follows:\n",
        "   [25.5, 24.8, 26.1, 25.3, 24.9]\n",
        "   Calculate the range of the stock prices.\n"
      ],
      "metadata": {
        "id": "LoFAbFCfBxJe"
      }
    },
    {
      "cell_type": "code",
      "source": [
        "stock_prices = [25.5, 24.8, 26.1, 25.3, 24.9]\n",
        "\n",
        "stock_price_range = max(stock_prices) - min(stock_prices)\n",
        "\n",
        "print(\"Range of stock prices:\", stock_price_range)\n"
      ],
      "metadata": {
        "colab": {
          "base_uri": "https://localhost:8080/"
        },
        "id": "I1nmJBZeB2e8",
        "outputId": "bb0c8c8e-5756-494a-c85a-8130528d153d"
      },
      "execution_count": 5,
      "outputs": [
        {
          "output_type": "stream",
          "name": "stdout",
          "text": [
            "Range of stock prices: 1.3000000000000007\n"
          ]
        }
      ]
    },
    {
      "cell_type": "markdown",
      "source": [
        "5. Scenario: A study is conducted to compare the performance of two different teaching methods. The test scores of the students in each group are as follows:\n",
        "   Group A: [85, 90, 92, 88, 91]\n",
        "   Group B: [82, 88, 90, 86, 87]\n",
        "   Perform a t-test to determine if there is a significant difference in the mean scores between the two groups.\n"
      ],
      "metadata": {
        "id": "qsjmrjcdB95m"
      }
    },
    {
      "cell_type": "code",
      "source": [
        "from scipy.stats import ttest_ind\n",
        "\n",
        "group_a_scores = [85, 90, 92, 88, 91]\n",
        "group_b_scores = [82, 88, 90, 86, 87]\n",
        "\n",
        "t_statistic, p_value = ttest_ind(group_a_scores, group_b_scores)\n",
        "\n",
        "if p_value < 0.05:\n",
        "    print(\"There is a significant difference in the mean scores between the two groups.\")\n",
        "else:\n",
        "    print(\"There is no significant difference in the mean scores between the two groups.\")\n"
      ],
      "metadata": {
        "colab": {
          "base_uri": "https://localhost:8080/"
        },
        "id": "Kw-n3JnUCAuE",
        "outputId": "b0864db7-ce26-443f-d4d5-ef2575c8a4b9"
      },
      "execution_count": 6,
      "outputs": [
        {
          "output_type": "stream",
          "name": "stdout",
          "text": [
            "There is no significant difference in the mean scores between the two groups.\n"
          ]
        }
      ]
    },
    {
      "cell_type": "markdown",
      "source": [
        "6. Scenario: A company wants to analyze the relationship between advertising expenditure and sales. The data collected is as follows:\n",
        "   Advertising Expenditure (in thousands): [10, 15, 12, 8, 14]\n",
        "   Sales (in thousands): [25, 30, 28, 20, 26]\n",
        "   Calculate the correlation coefficient between advertising expenditure and sales.\n"
      ],
      "metadata": {
        "id": "gsHhEMjkCV9P"
      }
    },
    {
      "cell_type": "code",
      "source": [
        "from scipy.stats import pearsonr\n",
        "\n",
        "advertising_expenditure = [10, 15, 12, 8, 14]\n",
        "sales = [25, 30, 28, 20, 26]\n",
        "\n",
        "correlation_coefficient, p_value = pearsonr(advertising_expenditure, sales)\n",
        "\n",
        "print(\"Correlation coefficient between advertising expenditure and sales:\", correlation_coefficient)\n"
      ],
      "metadata": {
        "colab": {
          "base_uri": "https://localhost:8080/"
        },
        "id": "juGpf11aCW4O",
        "outputId": "ce427938-08f9-41fc-e020-b08def1b7348"
      },
      "execution_count": 7,
      "outputs": [
        {
          "output_type": "stream",
          "name": "stdout",
          "text": [
            "Correlation coefficient between advertising expenditure and sales: 0.8757511375750133\n"
          ]
        }
      ]
    },
    {
      "cell_type": "markdown",
      "source": [
        "7. Scenario: A survey is conducted to measure the heights of a group of people. The data collected is as follows:\n",
        "   [160, 170, 165, 155, 175, 180, 170]\n",
        "   Calculate the standard deviation of the heights.\n"
      ],
      "metadata": {
        "id": "HukUo7AQCfOA"
      }
    },
    {
      "cell_type": "code",
      "source": [
        "from statistics import stdev\n",
        "\n",
        "heights = [160, 170, 165, 155, 175, 180, 170]\n",
        "\n",
        "heights_std_dev = stdev(heights)\n",
        "\n",
        "print(\"Standard deviation of the heights:\", heights_std_dev)\n"
      ],
      "metadata": {
        "colab": {
          "base_uri": "https://localhost:8080/"
        },
        "id": "o8aiMDiWCiGD",
        "outputId": "20f1e63e-caec-45b9-8a2a-ab029a6545c4"
      },
      "execution_count": 8,
      "outputs": [
        {
          "output_type": "stream",
          "name": "stdout",
          "text": [
            "Standard deviation of the heights: 8.591246929842246\n"
          ]
        }
      ]
    },
    {
      "cell_type": "markdown",
      "source": [
        "8. Scenario: A company wants to analyze the relationship between employee tenure and job satisfaction. The data collected is as follows:\n",
        "   Employee Tenure (in years): [2, 3, 5, 4, 6, 2, 4]\n",
        "   Job Satisfaction (on a scale of 1 to 10): [7, 8, 6, 9, 5, 7, 6]\n",
        "   Perform a linear regression analysis to predict job satisfaction based on employee tenure.\n"
      ],
      "metadata": {
        "id": "WTNwIi8gCpoD"
      }
    },
    {
      "cell_type": "code",
      "source": [
        "import numpy as np\n",
        "from sklearn.linear_model import LinearRegression\n",
        "\n",
        "employee_tenure = np.array([2, 3, 5, 4, 6, 2, 4]).reshape((-1, 1))\n",
        "job_satisfaction = np.array([7, 8, 6, 9, 5, 7, 6])\n",
        "\n",
        "model = LinearRegression().fit(employee_tenure, job_satisfaction)\n",
        "\n",
        "intercept = model.intercept_\n",
        "slope = model.coef_[0]\n",
        "\n",
        "print(\"Intercept:\", intercept)\n",
        "print(\"Slope:\", slope)\n"
      ],
      "metadata": {
        "colab": {
          "base_uri": "https://localhost:8080/"
        },
        "id": "rwLGWGQgCxJb",
        "outputId": "77c53288-f0df-4f6d-8dca-89c510b02be0"
      },
      "execution_count": 9,
      "outputs": [
        {
          "output_type": "stream",
          "name": "stdout",
          "text": [
            "Intercept: 8.595744680851062\n",
            "Slope: -0.4680851063829786\n"
          ]
        }
      ]
    },
    {
      "cell_type": "markdown",
      "source": [
        "9. Scenario: A study is conducted to compare the effectiveness of two different medications. The recovery times of the patients in each group are as follows:\n",
        "   Medication A: [10, 12, 14, 11, 13]\n",
        "   Medication B: [15, 17, 16, 14, 18]\n",
        "   Perform an analysis of variance (ANOVA) to determine if there is a significant difference in the mean recovery times between the two medications.\n"
      ],
      "metadata": {
        "id": "2B-LLtkPDCzQ"
      }
    },
    {
      "cell_type": "code",
      "source": [
        "from scipy.stats import f_oneway\n",
        "\n",
        "medication_a_recovery_times = [10, 12, 14, 11, 13]\n",
        "medication_b_recovery_times = [15, 17, 16, 14, 18]\n",
        "\n",
        "f_statistic, p_value = f_oneway(medication_a_recovery_times, medication_b_recovery_times)\n",
        "\n",
        "if p_value < 0.05:\n",
        "    print(\"There is a significant difference in the mean recovery times between the two medications.\")\n",
        "else:\n",
        "    print(\"There is no significant difference in the mean recovery times between the two medications.\")\n"
      ],
      "metadata": {
        "colab": {
          "base_uri": "https://localhost:8080/"
        },
        "id": "--kpuhLKDDyc",
        "outputId": "1cbcf5e7-cb69-47cb-bd56-a1f1d38fba8b"
      },
      "execution_count": 10,
      "outputs": [
        {
          "output_type": "stream",
          "name": "stdout",
          "text": [
            "There is a significant difference in the mean recovery times between the two medications.\n"
          ]
        }
      ]
    },
    {
      "cell_type": "markdown",
      "source": [
        "10. Scenario: A company wants to analyze customer feedback ratings on a scale of 1 to 10. The data collected is\n",
        "\n",
        " as follows:\n",
        "    [8, 9, 7, 6, 8, 10, 9, 8, 7, 8]\n",
        "    Calculate the 75th percentile of the feedback ratings.\n"
      ],
      "metadata": {
        "id": "LAKmSR3fDKbf"
      }
    },
    {
      "cell_type": "code",
      "source": [
        "import numpy as np\n",
        "\n",
        "feedback_ratings = np.array([8, 9, 7, 6, 8, 10, 9, 8, 7, 8])\n",
        "\n",
        "percentile_75 = np.percentile(feedback_ratings, 75)\n",
        "\n",
        "print(\"75th percentile of the feedback ratings:\", percentile_75)\n"
      ],
      "metadata": {
        "colab": {
          "base_uri": "https://localhost:8080/"
        },
        "id": "0UF2jG3eDLJM",
        "outputId": "30eec43a-38ad-473f-e62b-cf933bb8f946"
      },
      "execution_count": 11,
      "outputs": [
        {
          "output_type": "stream",
          "name": "stdout",
          "text": [
            "75th percentile of the feedback ratings: 8.75\n"
          ]
        }
      ]
    },
    {
      "cell_type": "markdown",
      "source": [
        "11. Scenario: A quality control department wants to test the weight consistency of a product. The weights of a sample of products are as follows:\n",
        "    [10.2, 9.8, 10.0, 10.5, 10.3, 10.1]\n",
        "    Perform a hypothesis test to determine if the mean weight differs significantly from 10 grams.\n"
      ],
      "metadata": {
        "id": "B8jybCWADPsX"
      }
    },
    {
      "cell_type": "code",
      "source": [
        "from scipy.stats import ttest_1samp\n",
        "\n",
        "weights = [10.2, 9.8, 10.0, 10.5, 10.3, 10.1]\n",
        "\n",
        "t_statistic, p_value = ttest_1samp(weights, 10)\n",
        "\n",
        "if p_value < 0.05:\n",
        "    print(\"The mean weight differs significantly from 10 grams.\")\n",
        "else:\n",
        "    print(\"The mean weight does not differ significantly from 10 grams.\")\n"
      ],
      "metadata": {
        "colab": {
          "base_uri": "https://localhost:8080/"
        },
        "id": "sLfrNQD0DOcE",
        "outputId": "90484af7-d1d6-4ea2-dfdc-1933511066ae"
      },
      "execution_count": 12,
      "outputs": [
        {
          "output_type": "stream",
          "name": "stdout",
          "text": [
            "The mean weight does not differ significantly from 10 grams.\n"
          ]
        }
      ]
    },
    {
      "cell_type": "markdown",
      "source": [
        "12. Scenario: A company wants to analyze the click-through rates of two different website designs. The number of clicks for each design is as follows:\n",
        "    Design A: [100, 120, 110, 90, 95]\n",
        "    Design B: [80, 85, 90, 95, 100]\n",
        "    Perform a chi-square test to determine if there is a significant difference in the click-through rates between the two designs.\n"
      ],
      "metadata": {
        "id": "ruP0WFbjDdiw"
      }
    },
    {
      "cell_type": "code",
      "source": [
        "from scipy.stats import chi2_contingency\n",
        "\n",
        "design_a_clicks = [100, 120, 110, 90, 95]\n",
        "design_b_clicks = [80, 85, 90, 95, 100]\n",
        "\n",
        "observed = [design_a_clicks, design_b_clicks]\n",
        "\n",
        "chi2_statistic, p_value, _, _ = chi2_contingency(observed)\n",
        "\n",
        "if p_value < 0.05:\n",
        "    print(\"There is a significant difference in the click-through rates between the two designs.\")\n",
        "else:\n",
        "    print(\"There is no significant difference in the click-through rates between the two designs.\")\n"
      ],
      "metadata": {
        "colab": {
          "base_uri": "https://localhost:8080/"
        },
        "id": "L7osRCMfDhsk",
        "outputId": "dc364835-9e1a-42c8-c838-d17f74f092a5"
      },
      "execution_count": 13,
      "outputs": [
        {
          "output_type": "stream",
          "name": "stdout",
          "text": [
            "There is no significant difference in the click-through rates between the two designs.\n"
          ]
        }
      ]
    },
    {
      "cell_type": "markdown",
      "source": [
        "13. Scenario: A survey is conducted to measure customer satisfaction with a product on a scale of 1 to 10. The data collected is as follows:\n",
        "    [7, 9, 6, 8, 10, 7, 8, 9, 7, 8]\n",
        "    Calculate the 95% confidence interval for the population mean satisfaction score.\n",
        "\n"
      ],
      "metadata": {
        "id": "ioYlJ-KpDm0I"
      }
    },
    {
      "cell_type": "code",
      "source": [
        "import numpy as np\n",
        "from scipy.stats import t\n",
        "\n",
        "satisfaction_scores = np.array([7, 9, 6, 8, 10, 7, 8, 9, 7, 8])\n",
        "\n",
        "mean_score = np.mean(satisfaction_scores)\n",
        "std_dev = np.std(satisfaction_scores)\n",
        "sample_size = len(satisfaction_scores)\n",
        "confidence_level = 0.95\n",
        "\n",
        "t_value = t.ppf((1 + confidence_level) / 2, df=sample_size-1)\n",
        "margin_of_error = t_value * (std_dev / np.sqrt(sample_size))\n",
        "\n",
        "confidence_interval = (mean_score - margin_of_error, mean_score + margin_of_error)\n",
        "\n",
        "print(\"95% confidence interval for the population mean satisfaction score:\", confidence_interval)\n"
      ],
      "metadata": {
        "colab": {
          "base_uri": "https://localhost:8080/"
        },
        "id": "YKt_Zt67DvEl",
        "outputId": "affc6b13-92f7-4cbc-d4c0-ff440fc31c96"
      },
      "execution_count": 14,
      "outputs": [
        {
          "output_type": "stream",
          "name": "stdout",
          "text": [
            "95% confidence interval for the population mean satisfaction score: (7.087510739312016, 8.712489260687985)\n"
          ]
        }
      ]
    },
    {
      "cell_type": "markdown",
      "source": [
        "14. Scenario: A company wants to analyze the effect of temperature on product performance. The data collected is as follows:\n",
        "    Temperature (in degrees Celsius): [20, 22, 23, 19, 21]\n",
        "    Performance (on a scale of 1 to 10): [8, 7, 9, 6, 8]\n",
        "    Perform a simple linear regression to predict performance based on temperature.\n",
        "\n"
      ],
      "metadata": {
        "id": "xULuXzFkD1rv"
      }
    },
    {
      "cell_type": "code",
      "source": [
        "import numpy as np\n",
        "from sklearn.linear_model import LinearRegression\n",
        "\n",
        "temperature = np.array([20, 22, 23, 19, 21]).reshape((-1, 1))\n",
        "performance = np.array([8, 7, 9, 6, 8])\n",
        "\n",
        "model = LinearRegression().fit(temperature, performance)\n",
        "\n",
        "intercept = model.intercept_\n",
        "slope = model.coef_[0]\n",
        "\n",
        "print(\"Intercept:\", intercept)\n",
        "print(\"Slope:\", slope)\n"
      ],
      "metadata": {
        "colab": {
          "base_uri": "https://localhost:8080/"
        },
        "id": "th3JP9rjD4WM",
        "outputId": "3607113d-93ce-4926-c6f1-5318b0f742ec"
      },
      "execution_count": 15,
      "outputs": [
        {
          "output_type": "stream",
          "name": "stdout",
          "text": [
            "Intercept: -2.8999999999999986\n",
            "Slope: 0.4999999999999999\n"
          ]
        }
      ]
    },
    {
      "cell_type": "markdown",
      "source": [
        "15. Scenario: A study is conducted to compare the preferences of two groups of participants. The preferences are measured on a Likert scale from 1 to 5. The data collected is as follows:\n",
        "    Group A: [4, 3, 5, 2, 4]\n",
        "    Group B: [3, 2, 4, 3, 3]\n",
        "    Perform a Mann-Whitney U test to determine if there is a significant difference in the median preferences between the two groups.\n",
        "\n"
      ],
      "metadata": {
        "id": "LzXD1pinD8aE"
      }
    },
    {
      "cell_type": "code",
      "source": [
        "from scipy.stats import mannwhitneyu\n",
        "\n",
        "group_a_preferences = [4, 3, 5, 2, 4]\n",
        "group_b_preferences = [3, 2, 4, 3, 3]\n",
        "\n",
        "statistic, p_value = mannwhitneyu(group_a_preferences, group_b_preferences)\n",
        "\n",
        "if p_value < 0.05:\n",
        "    print(\"There is a significant difference in the median preferences between the two groups.\")\n",
        "else:\n",
        "    print(\"There is no significant difference in the median preferences between the two groups.\")\n"
      ],
      "metadata": {
        "colab": {
          "base_uri": "https://localhost:8080/"
        },
        "id": "34DWeTsND_5U",
        "outputId": "b0fcdfaf-a885-4a7f-d965-6406c60cd06f"
      },
      "execution_count": 16,
      "outputs": [
        {
          "output_type": "stream",
          "name": "stdout",
          "text": [
            "There is no significant difference in the median preferences between the two groups.\n"
          ]
        }
      ]
    },
    {
      "cell_type": "markdown",
      "source": [
        "16. Scenario: A company wants to analyze the distribution of customer ages. The data collected is as follows:\n",
        "    [25, 30, 35, 40, 45, 50, 55, 60, 65, 70]\n",
        "    Calculate the interquartile range (IQR) of the ages.\n"
      ],
      "metadata": {
        "id": "-65cb3hBEEam"
      }
    },
    {
      "cell_type": "code",
      "source": [
        "import numpy as np\n",
        "\n",
        "ages = np.array([25, 30, 35, 40, 45, 50, 55, 60, 65, 70])\n",
        "\n",
        "q1 = np.percentile(ages, 25)\n",
        "q3 = np.percentile(ages, 75)\n",
        "\n",
        "iqr = q3 - q1\n",
        "\n",
        "print(\"Interquartile range (IQR) of the ages:\", iqr)\n"
      ],
      "metadata": {
        "colab": {
          "base_uri": "https://localhost:8080/"
        },
        "id": "WthEyKH6EHhc",
        "outputId": "28461c3c-795f-4b3a-c8ee-b93739b0801a"
      },
      "execution_count": 17,
      "outputs": [
        {
          "output_type": "stream",
          "name": "stdout",
          "text": [
            "Interquartile range (IQR) of the ages: 22.5\n"
          ]
        }
      ]
    },
    {
      "cell_type": "markdown",
      "source": [
        "17. Scenario: A study is conducted to compare the performance of three different machine learning algorithms. The accuracy scores for each algorithm are as follows:\n",
        "    Algorithm A: [0.85, 0.80, 0.82, 0.87, 0.83]\n",
        "    Algorithm B: [0.78, 0.82, 0.84, 0.80, 0.79]\n",
        "    Algorithm C: [0.90, 0.88, 0.89, 0.86, 0.87]\n",
        "    Perform a Kruskal-Wallis test to determine if there is a significant difference in the median accuracy scores between the algorithms.\n"
      ],
      "metadata": {
        "id": "q8M5Fy6zEL9l"
      }
    },
    {
      "cell_type": "code",
      "source": [
        "from scipy.stats import kruskal\n",
        "\n",
        "algorithm_a_scores = [0.85, 0.80, 0.82, 0.87, 0.83]\n",
        "algorithm_b_scores = [0.78, 0.82, 0.84, 0.80, 0.79]\n",
        "algorithm_c_scores = [0.90, 0.88, 0.89, 0.86, 0.87]\n",
        "\n",
        "statistic, p_value = kruskal(algorithm_a_scores, algorithm_b_scores, algorithm_c_scores)\n",
        "\n",
        "if p_value < 0.05:\n",
        "    print(\"There is a significant difference in the median accuracy scores between the algorithms.\")\n",
        "else:\n",
        "    print(\"There is no significant difference in the median accuracy scores between the algorithms.\")\n"
      ],
      "metadata": {
        "colab": {
          "base_uri": "https://localhost:8080/"
        },
        "id": "W6GB_sD0HRT9",
        "outputId": "6112feed-f474-437e-aeac-06019fbc485a"
      },
      "execution_count": 18,
      "outputs": [
        {
          "output_type": "stream",
          "name": "stdout",
          "text": [
            "There is a significant difference in the median accuracy scores between the algorithms.\n"
          ]
        }
      ]
    },
    {
      "cell_type": "markdown",
      "source": [
        "18. Scenario: A company wants to analyze the effect of price on sales. The data collected is as follows:\n",
        "    Price (in dollars): [10, 15, 12, 8, 14]\n",
        "    Sales: [100, 80, 90, 110, 95]\n",
        "    Perform a simple linear regression to predict\n",
        "\n",
        " sales based on price.\n"
      ],
      "metadata": {
        "id": "Xyj0rzK4IZ4I"
      }
    },
    {
      "cell_type": "code",
      "source": [
        "import numpy as np\n",
        "from sklearn.linear_model import LinearRegression\n",
        "\n",
        "price = np.array([10, 15, 12, 8, 14]).reshape((-1, 1))\n",
        "sales = np.array([100, 80, 90, 110, 95])\n",
        "\n",
        "model = LinearRegression().fit(price, sales)\n",
        "\n",
        "intercept = model.intercept_\n",
        "slope = model.coef_[0]\n",
        "\n",
        "print(\"Intercept:\", intercept)\n",
        "print(\"Slope:\", slope)\n"
      ],
      "metadata": {
        "colab": {
          "base_uri": "https://localhost:8080/"
        },
        "id": "GyS_1jzJIbuU",
        "outputId": "78f1578f-a19c-430f-adcc-9f432da82b15"
      },
      "execution_count": 19,
      "outputs": [
        {
          "output_type": "stream",
          "name": "stdout",
          "text": [
            "Intercept: 136.3719512195122\n",
            "Slope: -3.5060975609756095\n"
          ]
        }
      ]
    },
    {
      "cell_type": "markdown",
      "source": [
        "19. Scenario: A survey is conducted to measure the satisfaction levels of customers with a new product. The data collected is as follows:\n",
        "    [7, 8, 9, 6, 8, 7, 9, 7, 8, 7]\n",
        "    Calculate the standard error of the mean satisfaction score.\n"
      ],
      "metadata": {
        "id": "wTPJhUamIhpG"
      }
    },
    {
      "cell_type": "code",
      "source": [
        "import numpy as np\n",
        "from scipy.stats import sem\n",
        "\n",
        "satisfaction_scores = np.array([7, 8, 9, 6, 8, 7, 9, 7, 8, 7])\n",
        "\n",
        "standard_error = sem(satisfaction_scores)\n",
        "\n",
        "print(\"Standard error of the mean satisfaction score:\", standard_error)\n"
      ],
      "metadata": {
        "colab": {
          "base_uri": "https://localhost:8080/"
        },
        "id": "BOBp7UCpIksE",
        "outputId": "92234606-c830-48bc-cef9-ca2cb502a75d"
      },
      "execution_count": 20,
      "outputs": [
        {
          "output_type": "stream",
          "name": "stdout",
          "text": [
            "Standard error of the mean satisfaction score: 0.30550504633038933\n"
          ]
        }
      ]
    },
    {
      "cell_type": "markdown",
      "source": [
        "20. Scenario: A company wants to analyze the relationship between advertising expenditure and sales. The data collected is as follows:\n",
        "    Advertising Expenditure (in thousands): [10, 15, 12, 8, 14]\n",
        "    Sales (in thousands): [25, 30, 28, 20, 26]\n",
        "    Perform a multiple regression analysis to predict sales based on advertising expenditure.\n"
      ],
      "metadata": {
        "id": "fHeEDetWIpKX"
      }
    },
    {
      "cell_type": "code",
      "source": [
        "import numpy as np\n",
        "from sklearn.linear_model import LinearRegression\n",
        "\n",
        "advertising_expenditure = np.array([10, 15, 12, 8, 14]).reshape((-1, 1))\n",
        "sales = np.array([25, 30, 28, 20, 26])\n",
        "\n",
        "model = LinearRegression().fit(advertising_expenditure, sales)\n",
        "\n",
        "intercept = model.intercept_\n",
        "slope = model.coef_[0]\n",
        "\n",
        "print(\"Intercept:\", intercept)\n",
        "print(\"Slope:\", slope)\n"
      ],
      "metadata": {
        "colab": {
          "base_uri": "https://localhost:8080/"
        },
        "id": "uit83J36Ir6c",
        "outputId": "37604bc7-03eb-4f00-b98e-c76d5bf92c53"
      },
      "execution_count": 21,
      "outputs": [
        {
          "output_type": "stream",
          "name": "stdout",
          "text": [
            "Intercept: 12.20121951219512\n",
            "Slope: 1.152439024390244\n"
          ]
        }
      ]
    }
  ]
}
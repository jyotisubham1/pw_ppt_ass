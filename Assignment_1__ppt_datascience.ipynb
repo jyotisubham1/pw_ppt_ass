{
  "nbformat": 4,
  "nbformat_minor": 0,
  "metadata": {
    "colab": {
      "provenance": [],
      "authorship_tag": "ABX9TyOLAZnOhUB3xAUWKjF/Gw/r",
      "include_colab_link": true
    },
    "kernelspec": {
      "name": "python3",
      "display_name": "Python 3"
    },
    "language_info": {
      "name": "python"
    }
  },
  "cells": [
    {
      "cell_type": "markdown",
      "metadata": {
        "id": "view-in-github",
        "colab_type": "text"
      },
      "source": [
        "<a href=\"https://colab.research.google.com/github/jyotisubham1/pw_ppt_ass/blob/main/Assignment_1__ppt_datascience.ipynb\" target=\"_parent\"><img src=\"https://colab.research.google.com/assets/colab-badge.svg\" alt=\"Open In Colab\"/></a>"
      ]
    },
    {
      "cell_type": "markdown",
      "source": [
        "Q.1 Write a Python program to reverse a string without using any built-in string reversal functions."
      ],
      "metadata": {
        "id": "wMbTtCSqJ0-S"
      }
    },
    {
      "cell_type": "code",
      "source": [
        "def reverse_string(string):\n",
        "    reversed_string = \"\"\n",
        "    for i in range(len(string) - 1, -1, -1):\n",
        "        reversed_string += string[i]\n",
        "    return reversed_string\n",
        "\n",
        "# Example\n",
        "string = \"Hello, World!\"\n",
        "reversed_string = reverse_string(string)\n",
        "print(reversed_string)\n"
      ],
      "metadata": {
        "colab": {
          "base_uri": "https://localhost:8080/"
        },
        "id": "OXsIYmf6LCI8",
        "outputId": "512ffd52-9a9e-4afe-f0ff-8c028a4293ce"
      },
      "execution_count": null,
      "outputs": [
        {
          "output_type": "stream",
          "name": "stdout",
          "text": [
            "!dlroW ,olleH\n"
          ]
        }
      ]
    },
    {
      "cell_type": "markdown",
      "source": [
        "Q.2 Implement a function to check if a given string is a palindrome."
      ],
      "metadata": {
        "id": "LApm5DxEJ1B4"
      }
    },
    {
      "cell_type": "code",
      "source": [
        "def is_palindrome(string):\n",
        "    reversed_string = reverse_string(string)\n",
        "    return string == reversed_string\n",
        "\n",
        "# Example\n",
        "string = \"radar\"\n",
        "if is_palindrome(string):\n",
        "    print(\"Palindrome\")\n",
        "else:\n",
        "    print(\"Not a palindrome\")\n"
      ],
      "metadata": {
        "colab": {
          "base_uri": "https://localhost:8080/"
        },
        "id": "lHiaR_XmLdiU",
        "outputId": "0b479a8c-2a53-4486-e247-a2a47d6e744f"
      },
      "execution_count": null,
      "outputs": [
        {
          "output_type": "stream",
          "name": "stdout",
          "text": [
            "Palindrome\n"
          ]
        }
      ]
    },
    {
      "cell_type": "markdown",
      "source": [
        "Q.3 Write a program to find the largest element in a given list."
      ],
      "metadata": {
        "id": "L8315pCWJ1Ei"
      }
    },
    {
      "cell_type": "code",
      "source": [
        "def find_largest_element(lst):\n",
        "    if not lst:\n",
        "        return None\n",
        "    largest = lst[0]\n",
        "    for num in lst:\n",
        "        if num > largest:\n",
        "            largest = num\n",
        "    return largest\n",
        "\n",
        "# Example\n",
        "numbers = [10, 5, 7, 21, 13]\n",
        "largest_number = find_largest_element(numbers)\n",
        "print(largest_number)\n"
      ],
      "metadata": {
        "colab": {
          "base_uri": "https://localhost:8080/"
        },
        "id": "iXzrJ2D9LeHf",
        "outputId": "c026e1ad-017f-4b0d-a101-a3b4e4444cab"
      },
      "execution_count": null,
      "outputs": [
        {
          "output_type": "stream",
          "name": "stdout",
          "text": [
            "21\n"
          ]
        }
      ]
    },
    {
      "cell_type": "markdown",
      "source": [
        "Q.4 Implement a function to count the occurrence of each element in a list."
      ],
      "metadata": {
        "id": "YzbSKq8QJ1H9"
      }
    },
    {
      "cell_type": "code",
      "source": [
        "def count_occurrences(lst):\n",
        "    occurrence_count = {}\n",
        "    for element in lst:\n",
        "        if element in occurrence_count:\n",
        "            occurrence_count[element] += 1\n",
        "        else:\n",
        "            occurrence_count[element] = 1\n",
        "    return occurrence_count\n",
        "\n",
        "# Example\n",
        "numbers = [1, 2, 2, 3, 3, 3, 4, 4, 4, 4]\n",
        "occurrences = count_occurrences(numbers)\n",
        "print(occurrences)\n"
      ],
      "metadata": {
        "colab": {
          "base_uri": "https://localhost:8080/"
        },
        "id": "bttUP79SLe84",
        "outputId": "a4527a3a-9bf9-4bb4-8e73-09fbac759cff"
      },
      "execution_count": null,
      "outputs": [
        {
          "output_type": "stream",
          "name": "stdout",
          "text": [
            "{1: 1, 2: 2, 3: 3, 4: 4}\n"
          ]
        }
      ]
    },
    {
      "cell_type": "markdown",
      "source": [
        "Q.5 Write a Python program to find the second largest number in a list."
      ],
      "metadata": {
        "id": "gvYNga_dJ1SH"
      }
    },
    {
      "cell_type": "code",
      "source": [
        "def find_second_largest(lst):\n",
        "    if len(lst) < 2:\n",
        "        return None\n",
        "    largest = max(lst[0], lst[1])\n",
        "    second_largest = min(lst[0], lst[1])\n",
        "    for num in lst[2:]:\n",
        "        if num > largest:\n",
        "            second_largest = largest\n",
        "            largest = num\n",
        "        elif num > second_largest:\n",
        "            second_largest = num\n",
        "    return second_largest\n",
        "\n",
        "# Example\n",
        "numbers = [5, 10, 2, 8, 7]\n",
        "second_largest_number = find_second_largest(numbers)\n",
        "print(second_largest_number)\n"
      ],
      "metadata": {
        "colab": {
          "base_uri": "https://localhost:8080/"
        },
        "id": "qQFlJtlhLfh9",
        "outputId": "8569230e-10a4-4918-9397-d1d28098aebf"
      },
      "execution_count": null,
      "outputs": [
        {
          "output_type": "stream",
          "name": "stdout",
          "text": [
            "8\n"
          ]
        }
      ]
    },
    {
      "cell_type": "markdown",
      "source": [
        "Q.6 Implement a function to remove duplicate elements from a list."
      ],
      "metadata": {
        "id": "dEOJBBtHJ1Xr"
      }
    },
    {
      "cell_type": "code",
      "source": [
        "def remove_duplicates(lst):\n",
        "    return list(set(lst))\n",
        "\n",
        "# Example\n",
        "numbers = [1, 2, 2, 3, 3, 3, 4, 4, 4, 4]\n",
        "unique_numbers = remove_duplicates(numbers)\n",
        "print(unique_numbers)\n"
      ],
      "metadata": {
        "colab": {
          "base_uri": "https://localhost:8080/"
        },
        "id": "f8yc6fYaLgY0",
        "outputId": "5179ffd5-8127-41e0-a43b-06bab36761b7"
      },
      "execution_count": null,
      "outputs": [
        {
          "output_type": "stream",
          "name": "stdout",
          "text": [
            "[1, 2, 3, 4]\n"
          ]
        }
      ]
    },
    {
      "cell_type": "markdown",
      "source": [
        "Q.7 Write a program to calculate the factorial of a given number."
      ],
      "metadata": {
        "id": "efPA0oKaJ1aq"
      }
    },
    {
      "cell_type": "code",
      "source": [
        "def factorial(n):\n",
        "    if n == 0:\n",
        "        return 1\n",
        "    fact = 1\n",
        "    for i in range(1, n+1):\n",
        "        fact *= i\n",
        "    return fact\n",
        "\n",
        "# Example\n",
        "number = 5\n",
        "factorial_result = factorial(number)\n",
        "print(factorial_result)\n"
      ],
      "metadata": {
        "colab": {
          "base_uri": "https://localhost:8080/"
        },
        "id": "Dk8xccbtLhSs",
        "outputId": "7e1dad72-475e-4b8d-af7d-f7d56133623d"
      },
      "execution_count": null,
      "outputs": [
        {
          "output_type": "stream",
          "name": "stdout",
          "text": [
            "120\n"
          ]
        }
      ]
    },
    {
      "cell_type": "markdown",
      "source": [
        "Q.8 Implement a function to check if a given number is prime."
      ],
      "metadata": {
        "id": "cDv1ZOqNJ1dY"
      }
    },
    {
      "cell_type": "code",
      "source": [
        "def is_prime(number):\n",
        "    if number < 2:\n",
        "        return False\n",
        "    for i in range(2, int(number**0.5) + 1):\n",
        "        if number % i == 0:\n",
        "            return False\n",
        "    return True\n",
        "\n",
        "# Example\n",
        "number = 17\n",
        "if is_prime(number):\n",
        "    print(\"Prime\")\n",
        "else:\n",
        "    print(\"Not prime\")\n"
      ],
      "metadata": {
        "colab": {
          "base_uri": "https://localhost:8080/"
        },
        "id": "oeskXBC3Lh6Q",
        "outputId": "112192a3-9701-4399-e762-249ccc04bff8"
      },
      "execution_count": null,
      "outputs": [
        {
          "output_type": "stream",
          "name": "stdout",
          "text": [
            "Prime\n"
          ]
        }
      ]
    },
    {
      "cell_type": "markdown",
      "source": [
        "Q.9 Write a Python program to sort a list of integers in ascending order."
      ],
      "metadata": {
        "id": "F-dnK4ZmJ1gT"
      }
    },
    {
      "cell_type": "code",
      "source": [
        "def sort_list(lst):\n",
        "    return sorted(lst)\n",
        "\n",
        "# Example\n",
        "numbers = [5, 2, 8, 1, 10]\n",
        "sorted_numbers = sort_list(numbers)\n",
        "print(sorted_numbers)\n"
      ],
      "metadata": {
        "colab": {
          "base_uri": "https://localhost:8080/"
        },
        "id": "V5pinmPPNPwc",
        "outputId": "ea9770e4-ebc4-4a41-bd95-099a1dc756cb"
      },
      "execution_count": null,
      "outputs": [
        {
          "output_type": "stream",
          "name": "stdout",
          "text": [
            "[1, 2, 5, 8, 10]\n"
          ]
        }
      ]
    },
    {
      "cell_type": "markdown",
      "source": [
        "Q.10 Implement a function to find the sum of all numbers in a list."
      ],
      "metadata": {
        "id": "Wfoz2oW0J1i2"
      }
    },
    {
      "cell_type": "code",
      "source": [
        "def find_sum(lst):\n",
        "    total = 0\n",
        "    for num in lst:\n",
        "        total += num\n",
        "    return total\n",
        "\n",
        "# Example\n",
        "\n",
        "numbers = [1, 2, 3, 4, 5]\n",
        "sum_of_numbers = find_sum(numbers)\n",
        "print(sum_of_numbers)\n"
      ],
      "metadata": {
        "id": "laBFFuqRNQgM",
        "colab": {
          "base_uri": "https://localhost:8080/"
        },
        "outputId": "84e1fe32-e90b-48cf-e533-dd4be4a22f8a"
      },
      "execution_count": 1,
      "outputs": [
        {
          "output_type": "stream",
          "name": "stdout",
          "text": [
            "15\n"
          ]
        }
      ]
    },
    {
      "cell_type": "markdown",
      "source": [
        "Q.11 Write a program to find the common elements between two lists."
      ],
      "metadata": {
        "id": "6kmD0GmSJ1ls"
      }
    },
    {
      "cell_type": "code",
      "source": [
        "def find_common_elements(list1, list2):\n",
        "    common_elements = []\n",
        "    for element in list1:\n",
        "        if element in list2 and element not in common_elements:\n",
        "            common_elements.append(element)\n",
        "    return common_elements\n",
        "\n",
        "# Example\n",
        "list1 = [1, 2, 3, 4, 5]\n",
        "list2 = [4, 5, 6, 7, 8]\n",
        "common_elements = find_common_elements(list1, list2)\n",
        "print(common_elements)\n"
      ],
      "metadata": {
        "id": "iBkX0aIhNQ6k",
        "colab": {
          "base_uri": "https://localhost:8080/"
        },
        "outputId": "66ca8572-0e1c-4bea-e35b-ad3ee022909a"
      },
      "execution_count": 2,
      "outputs": [
        {
          "output_type": "stream",
          "name": "stdout",
          "text": [
            "[4, 5]\n"
          ]
        }
      ]
    },
    {
      "cell_type": "markdown",
      "source": [
        "Q.12 Implement a function to check if a given string is an anagram of another string."
      ],
      "metadata": {
        "id": "d6rJ112FJ1oY"
      }
    },
    {
      "cell_type": "code",
      "source": [
        "def is_anagram(string1, string2):\n",
        "    string1 = string1.lower().replace(\" \", \"\")\n",
        "    string2 = string2.lower().replace(\" \", \"\")\n",
        "    return sorted(string1) == sorted(string2)\n",
        "\n",
        "# Example\n",
        "word1 = \"listen\"\n",
        "word2 = \"silent\"\n",
        "if is_anagram(word1, word2):\n",
        "    print(\"Anagram\")\n",
        "else:\n",
        "    print(\"Not an anagram\")\n"
      ],
      "metadata": {
        "id": "Mfqrsl3dNRs0",
        "colab": {
          "base_uri": "https://localhost:8080/"
        },
        "outputId": "b10b9e24-6907-4625-ca44-51dabcb35f12"
      },
      "execution_count": 3,
      "outputs": [
        {
          "output_type": "stream",
          "name": "stdout",
          "text": [
            "Anagram\n"
          ]
        }
      ]
    },
    {
      "cell_type": "markdown",
      "source": [
        "Q.13 Write a Python program to generate all permutations of a given string."
      ],
      "metadata": {
        "id": "a0WFYZQzJ1rU"
      }
    },
    {
      "cell_type": "code",
      "source": [
        "def generate_permutations(string):\n",
        "    if len(string) == 1:\n",
        "        return [string]\n",
        "    permutations = []\n",
        "    for i in range(len(string)):\n",
        "        char = string[i]\n",
        "        remaining_chars = string[:i] + string[i+1:]\n",
        "        for permutation in generate_permutations(remaining_chars):\n",
        "            permutations.append(char + permutation)\n",
        "    return permutations\n",
        "\n",
        "# Example usage\n",
        "word = \"abc\"\n",
        "permutations = generate_permutations(word)\n",
        "print(permutations)\n"
      ],
      "metadata": {
        "id": "-5qfST7YNSJw",
        "colab": {
          "base_uri": "https://localhost:8080/"
        },
        "outputId": "6932fe5c-0c08-467f-b618-4242cde68bbf"
      },
      "execution_count": 4,
      "outputs": [
        {
          "output_type": "stream",
          "name": "stdout",
          "text": [
            "['abc', 'acb', 'bac', 'bca', 'cab', 'cba']\n"
          ]
        }
      ]
    },
    {
      "cell_type": "markdown",
      "source": [
        "Q.14 Implement a function to calculate the Fibonacci sequence up to a given number of terms."
      ],
      "metadata": {
        "id": "t-GfxdbVJ1uo"
      }
    },
    {
      "cell_type": "code",
      "source": [
        "def fibonacci_sequence(n):\n",
        "    sequence = [0, 1]\n",
        "    if n <= 2:\n",
        "        return sequence[:n]\n",
        "    while len(sequence) < n:\n",
        "        next_num = sequence[-1] + sequence[-2]\n",
        "        sequence.append(next_num)\n",
        "    return sequence\n",
        "\n",
        "# Example usage\n",
        "terms = 8\n",
        "fib_sequence = fibonacci_sequence(terms)\n",
        "print(fib_sequence)\n"
      ],
      "metadata": {
        "id": "BOX2iyl-NSgt",
        "colab": {
          "base_uri": "https://localhost:8080/"
        },
        "outputId": "0214296c-2666-44d8-95cb-b81edd60f949"
      },
      "execution_count": 5,
      "outputs": [
        {
          "output_type": "stream",
          "name": "stdout",
          "text": [
            "[0, 1, 1, 2, 3, 5, 8, 13]\n"
          ]
        }
      ]
    },
    {
      "cell_type": "markdown",
      "source": [
        "Q.15 Write a program to find the median of a list of numbers.\n"
      ],
      "metadata": {
        "id": "MGx3o9sgJ1xI"
      }
    },
    {
      "cell_type": "code",
      "source": [
        "def find_median(lst):\n",
        "    sorted_lst = sorted(lst)\n",
        "    n = len(sorted_lst)\n",
        "    if n % 2 == 0:\n",
        "        median = (sorted_lst[n//2 - 1] + sorted_lst[n//2]) / 2\n",
        "    else:\n",
        "        median = sorted_lst[n//2]\n",
        "    return median\n",
        "\n",
        "# Example usage\n",
        "numbers = [7, 3, 9, 2, 5]\n",
        "median_value = find_median(numbers)\n",
        "print(median_value)\n"
      ],
      "metadata": {
        "id": "a_fCzNVtNS_8",
        "colab": {
          "base_uri": "https://localhost:8080/"
        },
        "outputId": "42d9cb3b-a8c7-45f5-98f3-303266539611"
      },
      "execution_count": 7,
      "outputs": [
        {
          "output_type": "stream",
          "name": "stdout",
          "text": [
            "5\n"
          ]
        }
      ]
    },
    {
      "cell_type": "markdown",
      "source": [
        "Q.16  Implement a function to check if a given list is sorted in non-decreasing order."
      ],
      "metadata": {
        "id": "dn0bz3JnJ1z_"
      }
    },
    {
      "cell_type": "code",
      "source": [
        "def is_sorted(lst):\n",
        "    for i in range(len(lst) - 1):\n",
        "        if lst[i] > lst[i + 1]:\n",
        "            return False\n",
        "    return True\n",
        "\n",
        "# Example usage\n",
        "numbers1 = [1, 2, 3, 4, 5]\n",
        "numbers2 = [1, 3, 2, 4, 5]\n",
        "numbers3 = [1, 1, 2, 2, 3]\n",
        "\n",
        "if is_sorted(numbers1):\n",
        "    print(\"numbers1 is sorted.\")\n",
        "else:\n",
        "    print(\"numbers1 is not sorted.\")\n",
        "\n",
        "if is_sorted(numbers2):\n",
        "    print(\"numbers2 is sorted.\")\n",
        "else:\n",
        "    print(\"numbers2 is not sorted.\")\n",
        "\n",
        "if is_sorted(numbers3):\n",
        "    print(\"numbers3 is sorted.\")\n",
        "else:\n",
        "    print(\"numbers3 is not sorted.\")\n",
        "\n"
      ],
      "metadata": {
        "colab": {
          "base_uri": "https://localhost:8080/"
        },
        "id": "F0AacBRC1myQ",
        "outputId": "0ae13ec7-7e11-46d9-e8b9-fec751b340e4"
      },
      "execution_count": 39,
      "outputs": [
        {
          "output_type": "stream",
          "name": "stdout",
          "text": [
            "numbers1 is sorted.\n",
            "numbers2 is not sorted.\n",
            "numbers3 is sorted.\n"
          ]
        }
      ]
    },
    {
      "cell_type": "markdown",
      "source": [
        "Q.17 Write a Python program to find the intersection of two lists.\n"
      ],
      "metadata": {
        "id": "ZOQ_CiMtJ12-"
      }
    },
    {
      "cell_type": "code",
      "source": [
        "def find_intersection(list1, list2):\n",
        "    return list(set(list1) & set(list2))\n",
        "\n",
        "# Example usage\n",
        "list1 = [1, 2, 3, 4, 5]\n",
        "list2 = [4, 5, 6, 7, 8]\n",
        "intersection = find_intersection(list1, list2)\n",
        "print(intersection)\n"
      ],
      "metadata": {
        "colab": {
          "base_uri": "https://localhost:8080/"
        },
        "id": "ahatQnQL1nog",
        "outputId": "c58b5ed0-7520-4f20-b036-33dfdfc6e786"
      },
      "execution_count": 9,
      "outputs": [
        {
          "output_type": "stream",
          "name": "stdout",
          "text": [
            "[4, 5]\n"
          ]
        }
      ]
    },
    {
      "cell_type": "markdown",
      "source": [
        "Q.18 Implement a function to find the maximum subarray sum in a given list.\n"
      ],
      "metadata": {
        "id": "lFiqo5hcJ15_"
      }
    },
    {
      "cell_type": "code",
      "source": [
        "def find_maximum_subarray_sum(lst):\n",
        "    max_sum = lst[0]\n",
        "    current_sum = lst[0]\n",
        "    for num in lst[1:]:\n",
        "        current_sum = max(num, current_sum + num)\n",
        "        max_sum = max(max_sum, current_sum)\n",
        "    return max_sum\n",
        "\n",
        "# Example usage\n",
        "numbers = [-2, 1, -3, 4, -1, 2, 1, -5, 4]\n",
        "max_subarray_sum = find_maximum_subarray_sum(numbers)\n",
        "print(max_subarray_sum)\n"
      ],
      "metadata": {
        "colab": {
          "base_uri": "https://localhost:8080/"
        },
        "id": "glim_vDv1oCS",
        "outputId": "320f56ca-8b3e-4f30-a336-4a752e9273e7"
      },
      "execution_count": 10,
      "outputs": [
        {
          "output_type": "stream",
          "name": "stdout",
          "text": [
            "6\n"
          ]
        }
      ]
    },
    {
      "cell_type": "markdown",
      "source": [
        "Q.19 Write a program to remove all vowels from a given string."
      ],
      "metadata": {
        "id": "gSaPrF3TJ19D"
      }
    },
    {
      "cell_type": "code",
      "source": [
        "def remove_vowels(string):\n",
        "    vowels = \"aeiouAEIOU\"\n",
        "    return \"\".join(char for char in string if char not in vowels)\n",
        "\n",
        "# Example usage\n",
        "text = \"Hello, World!\"\n",
        "text_without_vowels = remove_vowels(text)\n",
        "print(text_without_vowels)\n"
      ],
      "metadata": {
        "colab": {
          "base_uri": "https://localhost:8080/"
        },
        "id": "lHS-tv4R1o9u",
        "outputId": "a1b9a6a1-2c6b-4b04-ec86-5d110306fa68"
      },
      "execution_count": 11,
      "outputs": [
        {
          "output_type": "stream",
          "name": "stdout",
          "text": [
            "Hll, Wrld!\n"
          ]
        }
      ]
    },
    {
      "cell_type": "markdown",
      "source": [
        "Q.20  Implement a function to reverse the order of words in a given sentence."
      ],
      "metadata": {
        "id": "LLsjc70FJ2C4"
      }
    },
    {
      "cell_type": "code",
      "source": [
        "def reverse_sentence(sentence):\n",
        "    words = sentence.split()\n",
        "    reversed_words = words[::-1]\n",
        "    reversed_sentence = \" \".join(reversed_words)\n",
        "    return reversed_sentence\n",
        "\n",
        "# Example usage\n",
        "sentence = \"Hello, World!\"\n",
        "reversed_sentence = reverse_sentence(sentence)\n",
        "print(reversed_sentence)\n"
      ],
      "metadata": {
        "colab": {
          "base_uri": "https://localhost:8080/"
        },
        "id": "chLHw3E01ppW",
        "outputId": "115f05e1-f5ab-4a2b-97df-7b08c4bf4688"
      },
      "execution_count": 12,
      "outputs": [
        {
          "output_type": "stream",
          "name": "stdout",
          "text": [
            "World! Hello,\n"
          ]
        }
      ]
    },
    {
      "cell_type": "markdown",
      "source": [
        "Q.21  Write a Python program to check if two strings are anagrams of each other.\n"
      ],
      "metadata": {
        "id": "GyxOKyk7J2GC"
      }
    },
    {
      "cell_type": "code",
      "source": [
        "from collections import Counter\n",
        "\n",
        "def are_anagrams(string1, string2):\n",
        "    # Remove whitespace and convert to lowercase\n",
        "    string1 = string1.replace(\" \", \"\").lower()\n",
        "    string2 = string2.replace(\" \", \"\").lower()\n",
        "\n",
        "    # Compare the character counts of both strings\n",
        "    return Counter(string1) == Counter(string2)\n",
        "\n",
        "# Example usage\n",
        "word1 = \"listen\"\n",
        "word2 = \"silent\"\n",
        "if are_anagrams(word1, word2):\n",
        "    print(\"The strings are anagrams.\")\n",
        "else:\n",
        "    print(\"The strings are not anagrams.\")\n"
      ],
      "metadata": {
        "colab": {
          "base_uri": "https://localhost:8080/"
        },
        "id": "UydmZa9C1qQB",
        "outputId": "10235461-2b47-4295-9f98-10f14b183791"
      },
      "execution_count": 13,
      "outputs": [
        {
          "output_type": "stream",
          "name": "stdout",
          "text": [
            "The strings are anagrams.\n"
          ]
        }
      ]
    },
    {
      "cell_type": "markdown",
      "source": [
        "Q.22  Implement a function to find the first non-repeating character in a string."
      ],
      "metadata": {
        "id": "N_syA6GcJ2Is"
      }
    },
    {
      "cell_type": "code",
      "source": [
        "from collections import Counter\n",
        "\n",
        "def find_first_non_repeating_char(string):\n",
        "    char_count = Counter(string)\n",
        "    for char in string:\n",
        "        if char_count[char] == 1:\n",
        "            return char\n",
        "    return None\n",
        "\n",
        "# Example usage\n",
        "text = \"aabccdeeffg\"\n",
        "first_non_repeating_char = find_first_non_repeating_char(text)\n",
        "if first_non_repeating_char:\n",
        "    print(\"The first non-repeating character is:\", first_non_repeating_char)\n",
        "else:\n",
        "    print(\"There are no non-repeating characters in the string.\")\n"
      ],
      "metadata": {
        "colab": {
          "base_uri": "https://localhost:8080/"
        },
        "id": "TqA6kl_W1rCY",
        "outputId": "33073945-e931-4bff-fd95-5f85191507e4"
      },
      "execution_count": 14,
      "outputs": [
        {
          "output_type": "stream",
          "name": "stdout",
          "text": [
            "The first non-repeating character is: b\n"
          ]
        }
      ]
    },
    {
      "cell_type": "markdown",
      "source": [
        "Q.23 Write a program to find the prime factors of a given number.\n"
      ],
      "metadata": {
        "id": "wYRHmgJVJ2Lr"
      }
    },
    {
      "cell_type": "code",
      "source": [
        "def find_prime_factors(number):\n",
        "    factors = []\n",
        "    divisor = 2\n",
        "    while divisor <= number:\n",
        "        if number % divisor == 0:\n",
        "            factors.append(divisor)\n",
        "            number //= divisor\n",
        "        else:\n",
        "            divisor += 1\n",
        "    return factors\n",
        "\n",
        "# Example usage\n",
        "number = 84\n",
        "prime_factors = find_prime_factors(number)\n",
        "print(\"Prime factors of\", number, \"are:\", prime_factors)\n"
      ],
      "metadata": {
        "colab": {
          "base_uri": "https://localhost:8080/"
        },
        "id": "j3WHFmhC1rz-",
        "outputId": "f44bd94c-5da3-4400-c2d8-f90786988bc5"
      },
      "execution_count": 15,
      "outputs": [
        {
          "output_type": "stream",
          "name": "stdout",
          "text": [
            "Prime factors of 84 are: [2, 2, 3, 7]\n"
          ]
        }
      ]
    },
    {
      "cell_type": "markdown",
      "source": [
        "Q.24  Implement a function to check if a given number is a power of two."
      ],
      "metadata": {
        "id": "QIjWOSNJJ2O3"
      }
    },
    {
      "cell_type": "code",
      "source": [
        "def is_power_of_two(number):\n",
        "    if number <= 0:\n",
        "        return False\n",
        "    return (number & (number - 1)) == 0\n",
        "\n",
        "# Example usage\n",
        "num1 = 16\n",
        "num2 = 20\n",
        "if is_power_of_two(num1):\n",
        "    print(num1, \"is a power of two\")\n",
        "else:\n",
        "    print(num1, \"is not a power of two\")\n",
        "\n",
        "if is_power_of_two(num2):\n",
        "    print(num2, \"is a power of two\")\n",
        "else:\n",
        "    print(num2, \"is not a power of two\")\n"
      ],
      "metadata": {
        "colab": {
          "base_uri": "https://localhost:8080/"
        },
        "id": "Ru0MP_0k21mi",
        "outputId": "f48f5b29-9f2b-4cd5-b854-efc86d652d7e"
      },
      "execution_count": 16,
      "outputs": [
        {
          "output_type": "stream",
          "name": "stdout",
          "text": [
            "16 is a power of two\n",
            "20 is not a power of two\n"
          ]
        }
      ]
    },
    {
      "cell_type": "markdown",
      "source": [
        "Q.25  Write a Python program to merge two sorted lists into a single sorted list."
      ],
      "metadata": {
        "id": "F3jJ8WpXJ2TX"
      }
    },
    {
      "cell_type": "code",
      "source": [
        "def merge_sorted_lists(list1, list2):\n",
        "    merged_list = []\n",
        "    i = j = 0\n",
        "    while i < len(list1) and j < len(list2):\n",
        "        if list1[i] <= list2[j]:\n",
        "            merged_list.append(list1[i])\n",
        "            i += 1\n",
        "        else:\n",
        "            merged_list.append(list2[j])\n",
        "            j += 1\n",
        "    merged_list.extend(list1[i:])\n",
        "    merged_list.extend(list2[j:])\n",
        "    return merged_list\n",
        "\n",
        "# Example usage\n",
        "list1 = [1, 3, 5, 7]\n",
        "list2 = [2, 4, 6, 8]\n",
        "merged_list = merge_sorted_lists(list1, list2)\n",
        "print(\"Merged list:\", merged_list)\n"
      ],
      "metadata": {
        "colab": {
          "base_uri": "https://localhost:8080/"
        },
        "id": "OY5FO6d022IT",
        "outputId": "21ca94d7-fbfc-42a3-8f1d-5e8e994c6392"
      },
      "execution_count": 17,
      "outputs": [
        {
          "output_type": "stream",
          "name": "stdout",
          "text": [
            "Merged list: [1, 2, 3, 4, 5, 6, 7, 8]\n"
          ]
        }
      ]
    },
    {
      "cell_type": "markdown",
      "source": [
        "Q.26  Implement a function to find the mode of a list of numbers."
      ],
      "metadata": {
        "id": "gH0jgvAsJ2Wd"
      }
    },
    {
      "cell_type": "code",
      "source": [
        "from collections import Counter\n",
        "\n",
        "def find_mode(lst):\n",
        "    counter = Counter(lst)\n",
        "    max_count = max(counter.values())\n",
        "    modes = [num for num, count in counter.items() if count == max_count]\n",
        "    return modes\n",
        "\n",
        "# Example usage\n",
        "numbers = [1, 2, 2, 3, 3, 3, 4, 4, 4, 4]\n",
        "modes = find_mode(numbers)\n",
        "print(\"Modes:\", modes)\n"
      ],
      "metadata": {
        "colab": {
          "base_uri": "https://localhost:8080/"
        },
        "id": "xzk7WWfD22rX",
        "outputId": "d3923e8a-a7d3-4b59-82ec-d1130bb5420d"
      },
      "execution_count": 18,
      "outputs": [
        {
          "output_type": "stream",
          "name": "stdout",
          "text": [
            "Modes: [4]\n"
          ]
        }
      ]
    },
    {
      "cell_type": "markdown",
      "source": [
        "Q.27 Write a program to find the greatest common divisor (GCD) of two numbers."
      ],
      "metadata": {
        "id": "qHwF2KosJ2ZJ"
      }
    },
    {
      "cell_type": "code",
      "source": [
        "def find_gcd(a, b):\n",
        "    while b != 0:\n",
        "        a, b = b, a % b\n",
        "    return a\n",
        "\n",
        "# Example usage\n",
        "num1 = 24\n",
        "num2 = 36\n",
        "gcd = find_gcd(num1, num2)\n",
        "print(\"GCD of\", num1, \"and\", num2, \"is:\", gcd)\n"
      ],
      "metadata": {
        "colab": {
          "base_uri": "https://localhost:8080/"
        },
        "id": "qgC50VaU23Hw",
        "outputId": "97c2c69c-ec46-4c87-f769-45e8536bbefe"
      },
      "execution_count": 19,
      "outputs": [
        {
          "output_type": "stream",
          "name": "stdout",
          "text": [
            "GCD of 24 and 36 is: 12\n"
          ]
        }
      ]
    },
    {
      "cell_type": "markdown",
      "source": [
        "Q.28  Implement a function to calculate the square root of a given number."
      ],
      "metadata": {
        "id": "vOl1UW8AJ2cA"
      }
    },
    {
      "cell_type": "code",
      "source": [
        "def calculate_square_root(number):\n",
        "    if number < 0:\n",
        "        return None\n",
        "    guess = number\n",
        "    while abs(guess * guess - number) > 1e-6:\n",
        "        guess = (guess + number / guess) / 2\n",
        "    return guess\n",
        "\n",
        "# Example usage\n",
        "num = 25\n",
        "sqrt = calculate_square_root(num)\n",
        "if sqrt is not None:\n",
        "    print(\"Square root of\", num, \"is:\", sqrt)\n",
        "else:\n",
        "    print(\"Invalid input. Cannot calculate square root of a negative number.\")\n"
      ],
      "metadata": {
        "colab": {
          "base_uri": "https://localhost:8080/"
        },
        "id": "GoBLR4DR23wD",
        "outputId": "3dc5c370-e7ad-454a-ab04-f421551347db"
      },
      "execution_count": 20,
      "outputs": [
        {
          "output_type": "stream",
          "name": "stdout",
          "text": [
            "Square root of 25 is: 5.000000000053722\n"
          ]
        }
      ]
    },
    {
      "cell_type": "markdown",
      "source": [
        "Q.29 Write a Python program to check if a given string is a valid palindrome ignoring non-alphanumeric characters.\n"
      ],
      "metadata": {
        "id": "40hZhJs4J2il"
      }
    },
    {
      "cell_type": "code",
      "source": [
        "import re\n",
        "\n",
        "def is_valid_palindrome(string):\n",
        "    alphanumeric_string = re.sub(r'\\W+', '', string.lower())\n",
        "    return alphanumeric_string == alphanumeric_string[::-1]\n",
        "\n",
        "# Example usage\n",
        "text = \"A man, a plan, a canal: Panama\"\n",
        "if is_valid_palindrome(text):\n",
        "    print(\"The string is a valid palindrome.\")\n",
        "else:\n",
        "    print(\"The string is not a valid palindrome.\")\n"
      ],
      "metadata": {
        "colab": {
          "base_uri": "https://localhost:8080/"
        },
        "id": "mEFJJhcV240y",
        "outputId": "2c7d85b0-1d13-4647-c35b-b5a9bdefb01d"
      },
      "execution_count": 21,
      "outputs": [
        {
          "output_type": "stream",
          "name": "stdout",
          "text": [
            "The string is a valid palindrome.\n"
          ]
        }
      ]
    },
    {
      "cell_type": "markdown",
      "source": [
        "Q.30  Implement a function to find the minimum element in a rotated sorted list."
      ],
      "metadata": {
        "id": "yG2FMj9zJ2mF"
      }
    },
    {
      "cell_type": "code",
      "source": [
        "def find_min_rotated(lst):\n",
        "    left = 0\n",
        "    right = len(lst) - 1\n",
        "    while left < right:\n",
        "        mid = (left + right) // 2\n",
        "        if lst[mid] > lst[right]:\n",
        "            left = mid + 1\n",
        "        else:\n",
        "            right = mid\n",
        "    return lst[left]\n",
        "\n",
        "# Example usage\n",
        "numbers = [4, 5, 6, 7, 0, 1, 2]\n",
        "min_rotated = find_min_rotated(numbers)\n",
        "print(\"Minimum element in the rotated list:\", min_rotated)\n"
      ],
      "metadata": {
        "colab": {
          "base_uri": "https://localhost:8080/"
        },
        "id": "pIyo8UFY25Ox",
        "outputId": "7096bff5-df29-43ec-95f4-88b660505f5a"
      },
      "execution_count": 22,
      "outputs": [
        {
          "output_type": "stream",
          "name": "stdout",
          "text": [
            "Minimum element in the rotated list: 0\n"
          ]
        }
      ]
    },
    {
      "cell_type": "markdown",
      "source": [
        "Q.31  Write a program to find the sum of all even numbers in a list."
      ],
      "metadata": {
        "id": "HARBl86nJ2oy"
      }
    },
    {
      "cell_type": "code",
      "source": [
        "def sum_of_even_numbers(lst):\n",
        "    return sum(num for num in lst if num % 2 == 0)\n",
        "\n",
        "# Example usage\n",
        "numbers = [1, 2, 3, 4, 5, 6, 7, 8, 9, 10]\n",
        "sum_of_evens = sum_of_even_numbers(numbers)\n",
        "print(\"Sum of even numbers:\", sum_of_evens)\n"
      ],
      "metadata": {
        "colab": {
          "base_uri": "https://localhost:8080/"
        },
        "id": "c3pcPE0225zP",
        "outputId": "bfb28cd8-ad36-4c33-e837-794e1caed3b8"
      },
      "execution_count": 23,
      "outputs": [
        {
          "output_type": "stream",
          "name": "stdout",
          "text": [
            "Sum of even numbers: 30\n"
          ]
        }
      ]
    },
    {
      "cell_type": "markdown",
      "source": [
        "Q.32 Implement a function to calculate the power of a number using recursion.\n"
      ],
      "metadata": {
        "id": "6ZaRpDgPJ2sK"
      }
    },
    {
      "cell_type": "code",
      "source": [
        "def power(base, exponent):\n",
        "    if exponent == 0:\n",
        "        return 1\n",
        "    elif exponent < 0:\n",
        "        return 1 / power(base, -exponent)\n",
        "    else:\n",
        "        return base * power(base, exponent - 1)\n",
        "\n",
        "# Example usage\n",
        "base = 2\n",
        "exponent = 3\n",
        "result = power(base, exponent)\n",
        "print(\"Result:\", result)\n"
      ],
      "metadata": {
        "colab": {
          "base_uri": "https://localhost:8080/"
        },
        "id": "7pID8Qyk26eU",
        "outputId": "fb28f6e8-0c27-4f52-8b4a-a0033b6d2d8e"
      },
      "execution_count": 24,
      "outputs": [
        {
          "output_type": "stream",
          "name": "stdout",
          "text": [
            "Result: 8\n"
          ]
        }
      ]
    },
    {
      "cell_type": "markdown",
      "source": [
        "Q.33  Write a Python program to remove duplicates from a list while preserving the order."
      ],
      "metadata": {
        "id": "Sp7Zlo7YJ2v4"
      }
    },
    {
      "cell_type": "code",
      "source": [
        "def remove_duplicates(lst):\n",
        "    unique_elements = []\n",
        "    seen = set()\n",
        "    for element in lst:\n",
        "        if element not in seen:\n",
        "            unique_elements.append(element)\n",
        "            seen.add(element)\n",
        "    return unique_elements\n",
        "\n",
        "# Example usage\n",
        "numbers = [1, 2, 2, 3, 3, 3, 4, 4, 4, 4]\n",
        "unique_numbers = remove_duplicates(numbers)\n",
        "print(\"List with duplicates removed:\", unique_numbers)\n"
      ],
      "metadata": {
        "colab": {
          "base_uri": "https://localhost:8080/"
        },
        "id": "UD-MF_ME27Ez",
        "outputId": "04161157-7720-4032-e522-4d85d8ac522d"
      },
      "execution_count": 25,
      "outputs": [
        {
          "output_type": "stream",
          "name": "stdout",
          "text": [
            "List with duplicates removed: [1, 2, 3, 4]\n"
          ]
        }
      ]
    },
    {
      "cell_type": "markdown",
      "source": [
        "Q.34 Implement a function to find the longest common prefix among a list of strings."
      ],
      "metadata": {
        "id": "NaGz4hODJ2zD"
      }
    },
    {
      "cell_type": "code",
      "source": [
        "def find_longest_common_prefix(strings):\n",
        "    if not strings:\n",
        "        return \"\"\n",
        "    shortest = min(strings, key=len)\n",
        "    for i, char in enumerate(shortest):\n",
        "        for string in strings:\n",
        "            if string[i] != char:\n",
        "                return shortest[:i]\n",
        "    return shortest\n",
        "\n",
        "# Example usage\n",
        "words = [\"flower\", \"flow\", \"flight\"]\n",
        "common_prefix = find_longest_common_prefix(words)\n",
        "print(\"Longest common prefix:\", common_prefix)\n"
      ],
      "metadata": {
        "colab": {
          "base_uri": "https://localhost:8080/"
        },
        "id": "8WR0Q9DW270H",
        "outputId": "903db6e4-a8e7-4659-83f3-4da0e1a067da"
      },
      "execution_count": 26,
      "outputs": [
        {
          "output_type": "stream",
          "name": "stdout",
          "text": [
            "Longest common prefix: fl\n"
          ]
        }
      ]
    },
    {
      "cell_type": "markdown",
      "source": [
        "Q.35  Write a program to check if a given number is a perfect square."
      ],
      "metadata": {
        "id": "MHK53JiUJ22H"
      }
    },
    {
      "cell_type": "code",
      "source": [
        "def is_perfect_square(number):\n",
        "    if number < 0:\n",
        "        return False\n",
        "    root = int(number ** 0.5)\n",
        "    return root * root == number\n",
        "\n",
        "# Example usage\n",
        "num1 = 16\n",
        "num2 = 17\n",
        "if is_perfect_square(num1):\n",
        "    print(num1, \"is a perfect square\")\n",
        "else:\n",
        "    print(num1, \"is not a perfect square\")\n",
        "\n",
        "if is_perfect_square(num2):\n",
        "    print(num2, \"is a perfect square\")\n",
        "else:\n",
        "    print(num2, \"is not a perfect square\")\n"
      ],
      "metadata": {
        "colab": {
          "base_uri": "https://localhost:8080/"
        },
        "id": "BEpHvF0728iY",
        "outputId": "6f6caca3-21c0-4a49-a44b-cef5162ce9d8"
      },
      "execution_count": 27,
      "outputs": [
        {
          "output_type": "stream",
          "name": "stdout",
          "text": [
            "16 is a perfect square\n",
            "17 is not a perfect square\n"
          ]
        }
      ]
    },
    {
      "cell_type": "markdown",
      "source": [
        " Q.36  Implement a function to calculate the product of all elements in a list."
      ],
      "metadata": {
        "id": "EWva3ycVKl1Y"
      }
    },
    {
      "cell_type": "code",
      "source": [
        "from functools import reduce\n",
        "import operator\n",
        "\n",
        "def calculate_product(lst):\n",
        "    if not lst:\n",
        "        return None\n",
        "    return reduce(operator.mul, lst)\n",
        "\n",
        "# Example usage\n",
        "numbers = [2, 3, 4, 5]\n",
        "product = calculate_product(numbers)\n",
        "print(\"Product of numbers:\", product)\n"
      ],
      "metadata": {
        "colab": {
          "base_uri": "https://localhost:8080/"
        },
        "id": "DNsFJuCh5tSf",
        "outputId": "66b3be51-2b3f-45aa-94d4-604bc111248f"
      },
      "execution_count": 28,
      "outputs": [
        {
          "output_type": "stream",
          "name": "stdout",
          "text": [
            "Product of numbers: 120\n"
          ]
        }
      ]
    },
    {
      "cell_type": "markdown",
      "source": [
        "Q.37 Write a Python program to reverse the order of words in a sentence while preserving the word order."
      ],
      "metadata": {
        "id": "kdelCaizKl8V"
      }
    },
    {
      "cell_type": "code",
      "source": [
        "def reverse_sentence(sentence):\n",
        "    words = sentence.split()\n",
        "    reversed_words = words[::-1]\n",
        "    reversed_sentence = \" \".join(reversed_words)\n",
        "    return reversed_sentence\n",
        "\n",
        "# Example usage\n",
        "sentence = \"Hello, World!\"\n",
        "reversed_sentence = reverse_sentence(sentence)\n",
        "print(\"Reversed sentence:\", reversed_sentence)\n"
      ],
      "metadata": {
        "colab": {
          "base_uri": "https://localhost:8080/"
        },
        "id": "vGgGVKmM5t_I",
        "outputId": "865aae9f-d198-4fd8-b209-71865a484757"
      },
      "execution_count": 29,
      "outputs": [
        {
          "output_type": "stream",
          "name": "stdout",
          "text": [
            "Reversed sentence: World! Hello,\n"
          ]
        }
      ]
    },
    {
      "cell_type": "markdown",
      "source": [
        "Q.38 Implement a function to find the missing number in a given list of consecutive numbers.\n"
      ],
      "metadata": {
        "id": "5CdsqpXGKmBT"
      }
    },
    {
      "cell_type": "code",
      "source": [
        "def find_missing_number(lst):\n",
        "    n = len(lst) + 1\n",
        "    expected_sum = n * (n + 1) // 2\n",
        "    actual_sum = sum(lst)\n",
        "    return expected_sum - actual_sum\n",
        "\n",
        "# Example usage\n",
        "numbers = [1, 2, 3, 5]\n",
        "missing_number = find_missing_number(numbers)\n",
        "print(\"Missing number:\", missing_number)\n"
      ],
      "metadata": {
        "colab": {
          "base_uri": "https://localhost:8080/"
        },
        "id": "nJ3VRutu5uZh",
        "outputId": "2d0f9b21-ad3f-4cb7-863b-5752b3414c81"
      },
      "execution_count": 30,
      "outputs": [
        {
          "output_type": "stream",
          "name": "stdout",
          "text": [
            "Missing number: 4\n"
          ]
        }
      ]
    },
    {
      "cell_type": "markdown",
      "source": [
        "Q.39 Write a program to find the sum of digits of a given number."
      ],
      "metadata": {
        "id": "UcTmzbjwKmFF"
      }
    },
    {
      "cell_type": "code",
      "source": [
        "def sum_of_digits(number):\n",
        "    return sum(int(digit) for digit in str(number) if digit.isdigit())\n",
        "\n",
        "# Example usage\n",
        "num = 12345\n",
        "digit_sum = sum_of_digits(num)\n",
        "print(\"Sum of digits:\", digit_sum)\n"
      ],
      "metadata": {
        "colab": {
          "base_uri": "https://localhost:8080/"
        },
        "id": "BLGOh-yP5u-f",
        "outputId": "8c39e1a5-ae4d-4e67-adf5-99e71c3da049"
      },
      "execution_count": 31,
      "outputs": [
        {
          "output_type": "stream",
          "name": "stdout",
          "text": [
            "Sum of digits: 15\n"
          ]
        }
      ]
    },
    {
      "cell_type": "markdown",
      "source": [
        "Q.40 Implement a function to check if a given string is a valid palindrome considering case sensitivity."
      ],
      "metadata": {
        "id": "5hQ3OyvWKm-N"
      }
    },
    {
      "cell_type": "code",
      "source": [
        "def is_valid_palindrome(string):\n",
        "    return string == string[::-1]\n",
        "\n",
        "# Example usage\n",
        "text = \"level\"\n",
        "if is_valid_palindrome(text):\n",
        "    print(\"The string is a valid palindrome.\")\n",
        "else:\n",
        "    print(\"The string is not a valid palindrome.\")\n"
      ],
      "metadata": {
        "colab": {
          "base_uri": "https://localhost:8080/"
        },
        "id": "1QNnY23r5vaJ",
        "outputId": "95d36090-8b41-4c73-a8e2-e4ad97321bf4"
      },
      "execution_count": 32,
      "outputs": [
        {
          "output_type": "stream",
          "name": "stdout",
          "text": [
            "The string is a valid palindrome.\n"
          ]
        }
      ]
    },
    {
      "cell_type": "markdown",
      "source": [
        "Q.41  Write a Python program to find the smallest missing positive integer in a list.\n"
      ],
      "metadata": {
        "id": "n1oZQHZTKnBg"
      }
    },
    {
      "cell_type": "code",
      "source": [
        "def find_smallest_missing_positive(lst):\n",
        "    smallest_positive = 1\n",
        "    set_nums = set(lst)\n",
        "    while smallest_positive in set_nums:\n",
        "        smallest_positive += 1\n",
        "    return smallest_positive\n",
        "\n",
        "# Example usage\n",
        "numbers = [3, 4, -1, 1]\n",
        "smallest_missing = find_smallest_missing_positive(numbers)\n",
        "print(\"Smallest missing positive integer:\", smallest_missing)\n"
      ],
      "metadata": {
        "colab": {
          "base_uri": "https://localhost:8080/"
        },
        "id": "S6HqQFRA5wBz",
        "outputId": "aa904455-d3f7-4fa3-e5f4-e355f39edfe6"
      },
      "execution_count": 33,
      "outputs": [
        {
          "output_type": "stream",
          "name": "stdout",
          "text": [
            "Smallest missing positive integer: 2\n"
          ]
        }
      ]
    },
    {
      "cell_type": "markdown",
      "source": [
        "Q.42  Implement a function to find the longest palindrome substring in a given string."
      ],
      "metadata": {
        "id": "RN5tZI4NKzQ8"
      }
    },
    {
      "cell_type": "code",
      "source": [
        "def longest_palindrome_substring(string):\n",
        "    longest = \"\"\n",
        "    for i in range(len(string)):\n",
        "        for j in range(i, len(string)):\n",
        "            substring = string[i:j+1]\n",
        "            if substring == substring[::-1] and len(substring) > len(longest):\n",
        "                longest = substring\n",
        "    return longest\n",
        "\n",
        "# Example usage\n",
        "text = \"babad\"\n",
        "longest_palindrome = longest_palindrome_substring(text)\n",
        "print(\"Longest palindrome substring:\", longest_palindrome)\n"
      ],
      "metadata": {
        "colab": {
          "base_uri": "https://localhost:8080/"
        },
        "id": "yVpG71x76KYO",
        "outputId": "b82cbe9f-96bb-497d-c9e9-22ae5192b58f"
      },
      "execution_count": 34,
      "outputs": [
        {
          "output_type": "stream",
          "name": "stdout",
          "text": [
            "Longest palindrome substring: bab\n"
          ]
        }
      ]
    },
    {
      "cell_type": "markdown",
      "source": [
        "Q.43 Write a program to find the number of occurrences of a given element in a list."
      ],
      "metadata": {
        "id": "-F3Or-8DKzck"
      }
    },
    {
      "cell_type": "code",
      "source": [
        "def count_occurrences(lst, element):\n",
        "    return lst.count(element)\n",
        "\n",
        "# Example usage\n",
        "numbers = [1, 2, 2, 3, 3, 3, 4, 4, 4, 4]\n",
        "element = 3\n",
        "occurrences = count_occurrences(numbers, element)\n",
        "print(\"Occurrences of\", element, \"in the list:\", occurrences)\n"
      ],
      "metadata": {
        "colab": {
          "base_uri": "https://localhost:8080/"
        },
        "id": "jj1xJHMj6LCS",
        "outputId": "4d5a2d27-b665-48e8-f433-348041fd3b9e"
      },
      "execution_count": 35,
      "outputs": [
        {
          "output_type": "stream",
          "name": "stdout",
          "text": [
            "Occurrences of 3 in the list: 3\n"
          ]
        }
      ]
    },
    {
      "cell_type": "markdown",
      "source": [
        "Q.44 Implement a function to check if a given number is a perfect number."
      ],
      "metadata": {
        "id": "pXRTnVV-Kzoc"
      }
    },
    {
      "cell_type": "code",
      "source": [
        "def is_perfect_number(number):\n",
        "    if number < 2:\n",
        "        return False\n",
        "    divisors = [1]\n",
        "    for i in range(2, int(number ** 0.5) + 1):\n",
        "        if number % i == 0:\n",
        "            divisors.append(i)\n",
        "            if i != number // i:\n",
        "                divisors.append(number // i)\n",
        "    return sum(divisors) == number\n",
        "\n",
        "# Example usage\n",
        "num1 = 6\n",
        "num2 = 12\n",
        "if is_perfect_number(num1):\n",
        "    print(num1, \"is a perfect number\")\n",
        "else:\n",
        "    print(num1, \"is not a perfect number\")\n",
        "\n",
        "if is_perfect_number(num2):\n",
        "    print(num2, \"is a perfect number\")\n",
        "else:\n",
        "    print(num2, \"is not a perfect number\")\n"
      ],
      "metadata": {
        "colab": {
          "base_uri": "https://localhost:8080/"
        },
        "id": "jUAjlRw56Liw",
        "outputId": "88a10c99-0671-426e-dd28-aa533ae38176"
      },
      "execution_count": 36,
      "outputs": [
        {
          "output_type": "stream",
          "name": "stdout",
          "text": [
            "6 is a perfect number\n",
            "12 is not a perfect number\n"
          ]
        }
      ]
    },
    {
      "cell_type": "markdown",
      "source": [
        "Q.45 Write a Python program to remove all duplicates from a string.\n"
      ],
      "metadata": {
        "id": "SjirxLJGKzzs"
      }
    },
    {
      "cell_type": "code",
      "source": [
        "def remove_duplicates(string):\n",
        "    return \"\".join(set(string))\n",
        "\n",
        "# Example usage\n",
        "text = \"Hello, World!\"\n",
        "text_without_duplicates = remove_duplicates(text)\n",
        "print(\"String with duplicates removed:\", text_without_duplicates)\n"
      ],
      "metadata": {
        "colab": {
          "base_uri": "https://localhost:8080/"
        },
        "id": "KJGh-5os6L9B",
        "outputId": "378b5f94-9e7f-4ca9-b9ff-c0c14efc9c83"
      },
      "execution_count": 37,
      "outputs": [
        {
          "output_type": "stream",
          "name": "stdout",
          "text": [
            "String with duplicates removed: rlW,! dHeo\n"
          ]
        }
      ]
    },
    {
      "cell_type": "markdown",
      "source": [
        "Q.46  Implement a function to find the first missing positive"
      ],
      "metadata": {
        "id": "nyioRQcWKz_e"
      }
    },
    {
      "cell_type": "code",
      "source": [
        "def find_first_missing_positive(lst):\n",
        "    n = len(lst)\n",
        "    for i in range(n):\n",
        "        while 1 <= lst[i] <= n and lst[lst[i] - 1] != lst[i]:\n",
        "            lst[lst[i] - 1], lst[i] = lst[i], lst[lst[i] - 1]\n",
        "    for i in range(n):\n",
        "        if lst[i] != i + 1:\n",
        "            return i + 1\n",
        "    return n + 1\n",
        "\n",
        "# Example usage\n",
        "numbers = [3, 4, -1, 1]\n",
        "first_missing_positive = find_first_missing_positive(numbers)\n",
        "print(\"First missing positive integer:\", first_missing_positive)\n"
      ],
      "metadata": {
        "id": "0SHgZO_SK_CS",
        "colab": {
          "base_uri": "https://localhost:8080/"
        },
        "outputId": "043f1213-11cd-4147-be9d-46fa01d32246"
      },
      "execution_count": 38,
      "outputs": [
        {
          "output_type": "stream",
          "name": "stdout",
          "text": [
            "First missing positive integer: 2\n"
          ]
        }
      ]
    }
  ]
}
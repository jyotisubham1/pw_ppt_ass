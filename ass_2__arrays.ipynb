{
  "nbformat": 4,
  "nbformat_minor": 0,
  "metadata": {
    "colab": {
      "provenance": [],
      "authorship_tag": "ABX9TyO7JmF7USzdE/YiACBE5cZq",
      "include_colab_link": true
    },
    "kernelspec": {
      "name": "python3",
      "display_name": "Python 3"
    },
    "language_info": {
      "name": "python"
    }
  },
  "cells": [
    {
      "cell_type": "markdown",
      "metadata": {
        "id": "view-in-github",
        "colab_type": "text"
      },
      "source": [
        "<a href=\"https://colab.research.google.com/github/jyotisubham1/pw_ppt_ass/blob/main/ass_2__arrays.ipynb\" target=\"_parent\"><img src=\"https://colab.research.google.com/assets/colab-badge.svg\" alt=\"Open In Colab\"/></a>"
      ]
    },
    {
      "cell_type": "markdown",
      "source": [
        "Q.1"
      ],
      "metadata": {
        "id": "ypoz1uFSXekR"
      }
    },
    {
      "cell_type": "code",
      "execution_count": 9,
      "metadata": {
        "colab": {
          "base_uri": "https://localhost:8080/"
        },
        "id": "kWfT0m41XGe8",
        "outputId": "cdb0c527-265f-493a-a842-78b2bff89abc"
      },
      "outputs": [
        {
          "output_type": "stream",
          "name": "stdout",
          "text": [
            "4\n"
          ]
        }
      ],
      "source": [
        "def arrayPairSum(nums):\n",
        "    nums.sort()\n",
        "    result = 0\n",
        "    for i in range(0, len(nums), 2):\n",
        "        result += nums[i]\n",
        "    return result\n",
        "\n",
        "\n",
        "nums = [1, 4, 3, 2]\n",
        "max_sum = arrayPairSum(nums)\n",
        "print(max_sum)\n"
      ]
    },
    {
      "cell_type": "markdown",
      "source": [
        "Q.2"
      ],
      "metadata": {
        "id": "EkmZ8184Xpnd"
      }
    },
    {
      "cell_type": "code",
      "source": [
        "def maxCandies(candyType):\n",
        "    max_candies = len(set(candyType))\n",
        "    max_eaten = len(candyType) // 2\n",
        "    return min(max_candies, max_eaten)\n",
        "\n",
        "\n",
        "candyType = [1, 1, 2, 2, 3, 3]\n",
        "max_types = maxCandies(candyType)\n",
        "print(max_types)\n"
      ],
      "metadata": {
        "colab": {
          "base_uri": "https://localhost:8080/"
        },
        "id": "ne8k4lhoXcSp",
        "outputId": "e8164117-7052-498a-de4e-54a1d19cf7db"
      },
      "execution_count": 11,
      "outputs": [
        {
          "output_type": "stream",
          "name": "stdout",
          "text": [
            "3\n"
          ]
        }
      ]
    },
    {
      "cell_type": "markdown",
      "source": [
        "Q.3"
      ],
      "metadata": {
        "id": "ZY80jpTAXtlo"
      }
    },
    {
      "cell_type": "code",
      "source": [
        "def findLHS(nums):\n",
        "    num_count = {}\n",
        "    max_length = 0\n",
        "\n",
        "    for num in nums:\n",
        "        num_count[num] = num_count.get(num, 0) + 1\n",
        "\n",
        "    for num in num_count:\n",
        "        if num + 1 in num_count:\n",
        "            length = num_count[num] + num_count[num + 1]\n",
        "            max_length = max(max_length, length)\n",
        "\n",
        "    return max_length\n",
        "\n",
        "\n",
        "nums = [1, 3, 2, 2, 5, 2, 3, 7]\n",
        "longest_subsequence_length = findLHS(nums)\n",
        "print(longest_subsequence_length)\n"
      ],
      "metadata": {
        "colab": {
          "base_uri": "https://localhost:8080/"
        },
        "id": "M0u5KzGLXsAD",
        "outputId": "aceb874d-0ff2-4dc5-b69e-3d8ad7791950"
      },
      "execution_count": 12,
      "outputs": [
        {
          "output_type": "stream",
          "name": "stdout",
          "text": [
            "5\n"
          ]
        }
      ]
    },
    {
      "cell_type": "markdown",
      "source": [
        "Q.4"
      ],
      "metadata": {
        "id": "JfKw3iRlXuZ9"
      }
    },
    {
      "cell_type": "code",
      "source": [
        "def canPlaceFlowers(flowerbed, n):\n",
        "    count = 0\n",
        "    flowerbed.append(0)\n",
        "\n",
        "    for i in range(len(flowerbed)):\n",
        "        if flowerbed[i] == 0 and flowerbed[i - 1] == 0 and flowerbed[i + 1] == 0:\n",
        "            flowerbed[i] = 1\n",
        "            count += 1\n",
        "\n",
        "    return count >= n\n",
        "\n",
        "\n",
        "flowerbed = [1, 0, 0, 0, 1]\n",
        "n = 1\n",
        "can_plant = canPlaceFlowers(flowerbed, n)\n",
        "print(can_plant)\n"
      ],
      "metadata": {
        "colab": {
          "base_uri": "https://localhost:8080/"
        },
        "id": "qidScpxCXvsb",
        "outputId": "ed774f5f-4f15-475f-94b4-9ed9ed71be1c"
      },
      "execution_count": 13,
      "outputs": [
        {
          "output_type": "stream",
          "name": "stdout",
          "text": [
            "True\n"
          ]
        }
      ]
    },
    {
      "cell_type": "markdown",
      "source": [
        "Q.5"
      ],
      "metadata": {
        "id": "yhc77B0CXwD2"
      }
    },
    {
      "cell_type": "code",
      "source": [
        "def maximumProduct(nums):\n",
        "    nums.sort()\n",
        "    n = len(nums)\n",
        "\n",
        "    # Maximum product can be either the product of the three largest elements\n",
        "    # or the product of the two smallest elements and the largest element\n",
        "    return max(nums[0] * nums[1] * nums[n - 1], nums[n - 1] * nums[n - 2] * nums[n - 3])\n",
        "\n",
        "\n",
        "nums = [1, 2, 3]\n",
        "max_product = maximumProduct(nums)\n",
        "print(max_product)\n"
      ],
      "metadata": {
        "colab": {
          "base_uri": "https://localhost:8080/"
        },
        "id": "EA0KywAGXwbn",
        "outputId": "472b02e2-c8c7-41a4-bf4b-376826b677a8"
      },
      "execution_count": 14,
      "outputs": [
        {
          "output_type": "stream",
          "name": "stdout",
          "text": [
            "6\n"
          ]
        }
      ]
    },
    {
      "cell_type": "markdown",
      "source": [
        "Q.6"
      ],
      "metadata": {
        "id": "gmK1RxpdXwuW"
      }
    },
    {
      "cell_type": "code",
      "source": [
        "def search(nums, target):\n",
        "    left, right = 0, len(nums) - 1\n",
        "\n",
        "    while left <= right:\n",
        "        mid = (left + right) // 2\n",
        "\n",
        "        if nums[mid] == target:\n",
        "            return mid\n",
        "        elif nums[mid] < target:\n",
        "            left = mid + 1\n",
        "        else:\n",
        "            right = mid - 1\n",
        "\n",
        "    return -1\n",
        "\n",
        "\n",
        "nums = [-1, 0, 3, 5, 9, 12]\n",
        "target = 9\n",
        "index = search(nums, target)\n",
        "print(index)\n"
      ],
      "metadata": {
        "colab": {
          "base_uri": "https://localhost:8080/"
        },
        "id": "huq-lzXLXw--",
        "outputId": "b03e208e-9515-4d28-b19d-e2ff575216e9"
      },
      "execution_count": 15,
      "outputs": [
        {
          "output_type": "stream",
          "name": "stdout",
          "text": [
            "4\n"
          ]
        }
      ]
    },
    {
      "cell_type": "markdown",
      "source": [
        "Q.7"
      ],
      "metadata": {
        "id": "sZzReQRoXxSJ"
      }
    },
    {
      "cell_type": "code",
      "source": [
        "def isMonotonic(nums):\n",
        "    is_increasing = True\n",
        "    is_decreasing = True\n",
        "\n",
        "    for i in range(1, len(nums)):\n",
        "        if nums[i] > nums[i - 1]:\n",
        "            is_decreasing = False\n",
        "        if nums[i] < nums[i - 1]:\n",
        "            is_increasing = False\n",
        "\n",
        "    return is_increasing or is_decreasing\n",
        "\n",
        "nums = [1, 2, 2, 3]\n",
        "is_monotonic = isMonotonic(nums)\n",
        "print(is_monotonic)\n"
      ],
      "metadata": {
        "colab": {
          "base_uri": "https://localhost:8080/"
        },
        "id": "axE5DHlOXxiL",
        "outputId": "ebc468e9-60c3-4732-d95c-ff1bff58b59b"
      },
      "execution_count": 16,
      "outputs": [
        {
          "output_type": "stream",
          "name": "stdout",
          "text": [
            "True\n"
          ]
        }
      ]
    },
    {
      "cell_type": "markdown",
      "source": [
        "Q.8"
      ],
      "metadata": {
        "id": "PAk_ujb7X8WJ"
      }
    },
    {
      "cell_type": "code",
      "source": [
        "def minDifference(nums, k):\n",
        "    n = len(nums)\n",
        "    if n <= 4:\n",
        "        return 0\n",
        "\n",
        "    nums.sort()\n",
        "    min_score = float('inf')\n",
        "\n",
        "    for i in range(4):\n",
        "        min_score = min(min_score, nums[n - 4 + i] - nums[i])\n",
        "\n",
        "    return min_score\n",
        "\n",
        "\n",
        "nums = [1]\n",
        "k = 0\n",
        "min_score = minDifference(nums, k)\n",
        "print(min_score)\n"
      ],
      "metadata": {
        "colab": {
          "base_uri": "https://localhost:8080/"
        },
        "id": "i5KdR--YX-w4",
        "outputId": "57db00fa-7086-41ce-82bc-1ad13262ebff"
      },
      "execution_count": 17,
      "outputs": [
        {
          "output_type": "stream",
          "name": "stdout",
          "text": [
            "0\n"
          ]
        }
      ]
    }
  ]
}
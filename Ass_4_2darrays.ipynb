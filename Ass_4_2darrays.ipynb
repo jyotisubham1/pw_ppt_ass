{
  "nbformat": 4,
  "nbformat_minor": 0,
  "metadata": {
    "colab": {
      "provenance": [],
      "authorship_tag": "ABX9TyPefpG4CyNiuWLlR3XcmOUV",
      "include_colab_link": true
    },
    "kernelspec": {
      "name": "python3",
      "display_name": "Python 3"
    },
    "language_info": {
      "name": "python"
    }
  },
  "cells": [
    {
      "cell_type": "markdown",
      "metadata": {
        "id": "view-in-github",
        "colab_type": "text"
      },
      "source": [
        "<a href=\"https://colab.research.google.com/github/jyotisubham1/pw_ppt_ass/blob/main/Ass_4_2darrays.ipynb\" target=\"_parent\"><img src=\"https://colab.research.google.com/assets/colab-badge.svg\" alt=\"Open In Colab\"/></a>"
      ]
    },
    {
      "cell_type": "markdown",
      "source": [
        "Q.1"
      ],
      "metadata": {
        "id": "99UwjeTdIO0G"
      }
    },
    {
      "cell_type": "code",
      "execution_count": 1,
      "metadata": {
        "id": "SKC3-pKGj0kF",
        "colab": {
          "base_uri": "https://localhost:8080/"
        },
        "outputId": "5154b2ff-3a6b-4982-e3e6-f860da330173"
      },
      "outputs": [
        {
          "output_type": "stream",
          "name": "stdout",
          "text": [
            "[1, 5]\n"
          ]
        }
      ],
      "source": [
        "def commonElements(arr1, arr2, arr3):\n",
        "    result = []\n",
        "    i = j = k = 0\n",
        "\n",
        "    while i < len(arr1) and j < len(arr2) and k < len(arr3):\n",
        "        if arr1[i] == arr2[j] == arr3[k]:\n",
        "            result.append(arr1[i])\n",
        "            i += 1\n",
        "            j += 1\n",
        "            k += 1\n",
        "        elif arr1[i] <= arr2[j] and arr1[i] <= arr3[k]:\n",
        "            i += 1\n",
        "        elif arr2[j] <= arr1[i] and arr2[j] <= arr3[k]:\n",
        "            j += 1\n",
        "        else:\n",
        "            k += 1\n",
        "\n",
        "    return result\n",
        "\n",
        "\n",
        "arr1 = [1, 2, 3, 4, 5]\n",
        "arr2 = [1, 2, 5, 7, 9]\n",
        "arr3 = [1, 3, 4, 5, 8]\n",
        "\n",
        "result = commonElements(arr1, arr2, arr3)\n",
        "print(result)\n"
      ]
    },
    {
      "cell_type": "markdown",
      "source": [
        "Q.2"
      ],
      "metadata": {
        "id": "861idV-BIP3v"
      }
    },
    {
      "cell_type": "code",
      "source": [
        "def findDistinctIntegers(nums1, nums2):\n",
        "    set1 = set(nums1)\n",
        "    set2 = set(nums2)\n",
        "\n",
        "    distinct_nums1 = list(set1 - set2)\n",
        "    distinct_nums2 = list(set2 - set1)\n",
        "\n",
        "    return [distinct_nums1, distinct_nums2]\n",
        "\n",
        "\n",
        "nums1 = [1, 2, 3]\n",
        "nums2 = [2, 4, 6]\n",
        "\n",
        "result = findDistinctIntegers(nums1, nums2)\n",
        "print(result)\n"
      ],
      "metadata": {
        "id": "LeP2s_qJIQOv",
        "colab": {
          "base_uri": "https://localhost:8080/"
        },
        "outputId": "c7c5fcc6-9574-4b70-c1e6-72bc157916b3"
      },
      "execution_count": 2,
      "outputs": [
        {
          "output_type": "stream",
          "name": "stdout",
          "text": [
            "[[1, 3], [4, 6]]\n"
          ]
        }
      ]
    },
    {
      "cell_type": "markdown",
      "source": [
        "Q.3"
      ],
      "metadata": {
        "id": "95nlteBgIQZh"
      }
    },
    {
      "cell_type": "code",
      "source": [
        "def transposeMatrix(matrix):\n",
        "    rows = len(matrix)\n",
        "    cols = len(matrix[0])\n",
        "\n",
        "    # Creating a new matrix with flipped dimensions\n",
        "    transposed = [[0 for _ in range(rows)] for _ in range(cols)]\n",
        "\n",
        "    # Iterating over the original matrix and swap elements\n",
        "    for i in range(rows):\n",
        "        for j in range(cols):\n",
        "            transposed[j][i] = matrix[i][j]\n",
        "\n",
        "    return transposed\n",
        "\n",
        "matrix = [[1, 2, 3], [4, 5, 6], [7, 8, 9]]\n",
        "\n",
        "result = transposeMatrix(matrix)\n",
        "print(result)\n",
        "\n"
      ],
      "metadata": {
        "id": "1jtFSt67IQjy",
        "colab": {
          "base_uri": "https://localhost:8080/"
        },
        "outputId": "8ee0e9de-9080-4810-86da-1e8211908be7"
      },
      "execution_count": 3,
      "outputs": [
        {
          "output_type": "stream",
          "name": "stdout",
          "text": [
            "[[1, 4, 7], [2, 5, 8], [3, 6, 9]]\n"
          ]
        }
      ]
    },
    {
      "cell_type": "markdown",
      "source": [
        "Q.4"
      ],
      "metadata": {
        "id": "TyWHhUH0IQvV"
      }
    },
    {
      "cell_type": "code",
      "source": [
        "def arrayPairSum(nums):\n",
        "    nums.sort()\n",
        "    max_sum = 0\n",
        "\n",
        "    for i in range(0, len(nums), 2):\n",
        "        max_sum += nums[i]\n",
        "\n",
        "    return max_sum\n",
        "\n",
        "\n",
        "nums = [1, 4, 3, 2]\n",
        "\n",
        "result = arrayPairSum(nums)\n",
        "print(result)\n"
      ],
      "metadata": {
        "id": "cQcbz4oSIQ7V",
        "colab": {
          "base_uri": "https://localhost:8080/"
        },
        "outputId": "ea6d2ba5-5741-47d7-fd3e-83086dad504e"
      },
      "execution_count": 4,
      "outputs": [
        {
          "output_type": "stream",
          "name": "stdout",
          "text": [
            "4\n"
          ]
        }
      ]
    },
    {
      "cell_type": "markdown",
      "source": [
        "Q.5"
      ],
      "metadata": {
        "id": "9ibg9P04IRGF"
      }
    },
    {
      "cell_type": "code",
      "source": [
        "def arrangeCoins(n):\n",
        "    k = 0\n",
        "    while k * (k + 1) // 2 <= n:\n",
        "        k += 1\n",
        "    return k - 1\n",
        "\n",
        "\n",
        "n = 5\n",
        "\n",
        "result = arrangeCoins(n)\n",
        "print(result)\n"
      ],
      "metadata": {
        "id": "HnWTw65sIRQv",
        "colab": {
          "base_uri": "https://localhost:8080/"
        },
        "outputId": "79dd5df6-faa0-4a21-fd38-aa0931cc1d79"
      },
      "execution_count": 5,
      "outputs": [
        {
          "output_type": "stream",
          "name": "stdout",
          "text": [
            "2\n"
          ]
        }
      ]
    },
    {
      "cell_type": "markdown",
      "source": [
        "Q.6"
      ],
      "metadata": {
        "id": "YkPoh7AwIRbt"
      }
    },
    {
      "cell_type": "code",
      "source": [
        "def sortedSquares(nums):\n",
        "    squares = [num * num for num in nums]\n",
        "    sorted_squares = sorted(squares)\n",
        "    return sorted_squares\n",
        "\n",
        "nums = [-4, -1, 0, 3, 10]\n",
        "\n",
        "result = sortedSquares(nums)\n",
        "print(result)\n"
      ],
      "metadata": {
        "id": "OU4ekAgPIRmn",
        "colab": {
          "base_uri": "https://localhost:8080/"
        },
        "outputId": "16ac5dca-ab07-408d-9ff1-bbb29135c09c"
      },
      "execution_count": 6,
      "outputs": [
        {
          "output_type": "stream",
          "name": "stdout",
          "text": [
            "[0, 1, 9, 16, 100]\n"
          ]
        }
      ]
    },
    {
      "cell_type": "markdown",
      "source": [
        "Q.7"
      ],
      "metadata": {
        "id": "BR7NQKO9IRwP"
      }
    },
    {
      "cell_type": "code",
      "source": [
        "def maxCount(m, n, ops):\n",
        "    min_row = m\n",
        "    min_col = n\n",
        "\n",
        "    for op in ops:\n",
        "        min_row = min(min_row, op[0])\n",
        "        min_col = min(min_col, op[1])\n",
        "\n",
        "    return min_row * min_col\n",
        "m = 3\n",
        "n = 3\n",
        "ops = [[2, 2], [3, 3]]\n",
        "\n",
        "result = maxCount(m, n, ops)\n",
        "print(result)\n",
        "\n"
      ],
      "metadata": {
        "id": "OKw6T0wWIR54",
        "colab": {
          "base_uri": "https://localhost:8080/"
        },
        "outputId": "43cb2373-9349-4cc8-c71d-122f48be17cb"
      },
      "execution_count": 7,
      "outputs": [
        {
          "output_type": "stream",
          "name": "stdout",
          "text": [
            "4\n"
          ]
        }
      ]
    },
    {
      "cell_type": "markdown",
      "source": [
        "Q.8"
      ],
      "metadata": {
        "id": "-F7wgXCQISFy"
      }
    },
    {
      "cell_type": "code",
      "source": [
        "def shuffle(nums, n):\n",
        "    result = []\n",
        "    for i in range(n):\n",
        "        result.append(nums[i])\n",
        "        result.append(nums[i + n])\n",
        "    return result\n",
        "nums = [2, 5, 1, 3, 4, 7]\n",
        "n = 3\n",
        "\n",
        "result = shuffle(nums, n)\n",
        "print(result)\n"
      ],
      "metadata": {
        "id": "RwJVpYeKISSF",
        "colab": {
          "base_uri": "https://localhost:8080/"
        },
        "outputId": "19e2c0ae-43b1-47ba-8e33-56a42b38d86c"
      },
      "execution_count": 8,
      "outputs": [
        {
          "output_type": "stream",
          "name": "stdout",
          "text": [
            "[2, 3, 5, 4, 1, 7]\n"
          ]
        }
      ]
    }
  ]
}
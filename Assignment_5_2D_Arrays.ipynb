{
  "nbformat": 4,
  "nbformat_minor": 0,
  "metadata": {
    "colab": {
      "provenance": [],
      "authorship_tag": "ABX9TyP7XSexPrcTqsqOpSyR5BYO",
      "include_colab_link": true
    },
    "kernelspec": {
      "name": "python3",
      "display_name": "Python 3"
    },
    "language_info": {
      "name": "python"
    }
  },
  "cells": [
    {
      "cell_type": "markdown",
      "metadata": {
        "id": "view-in-github",
        "colab_type": "text"
      },
      "source": [
        "<a href=\"https://colab.research.google.com/github/jyotisubham1/pw_ppt_ass/blob/main/Assignment_5_2D_Arrays.ipynb\" target=\"_parent\"><img src=\"https://colab.research.google.com/assets/colab-badge.svg\" alt=\"Open In Colab\"/></a>"
      ]
    },
    {
      "cell_type": "markdown",
      "source": [
        "Q.1"
      ],
      "metadata": {
        "id": "2d4zzCiByjDh"
      }
    },
    {
      "cell_type": "code",
      "execution_count": 2,
      "metadata": {
        "colab": {
          "base_uri": "https://localhost:8080/"
        },
        "id": "rXXpwi7KyF5G",
        "outputId": "ca54ad96-0378-45ba-da0a-fdd3c183d6fe"
      },
      "outputs": [
        {
          "output_type": "stream",
          "name": "stdout",
          "text": [
            "[[1, 2], [3, 4]]\n"
          ]
        }
      ],
      "source": [
        "def convert(original, m, n):\n",
        "    # check if the length of original is divisible by m * n\n",
        "    if len(original) % (m * n) != 0:\n",
        "        # return an empty 2D array\n",
        "        return []\n",
        "\n",
        "    # use list comprehension and slicing to create a 2D array from original\n",
        "    result = [original[i * n : (i + 1) * n] for i in range(m)]\n",
        "\n",
        "    # return the result\n",
        "    return result\n",
        "original = [1, 2, 3, 4]\n",
        "m = 2\n",
        "n = 2\n",
        "print(convert(original, m, n))\n"
      ]
    },
    {
      "cell_type": "markdown",
      "source": [
        "Q.2"
      ],
      "metadata": {
        "id": "cP2DJRLKyluN"
      }
    },
    {
      "cell_type": "code",
      "source": [
        "def arrange_coins(n):\n",
        "    k = 0\n",
        "    while n >= (k * (k + 1)) / 2:\n",
        "        k += 1\n",
        "    return k - 1\n",
        "\n",
        "\n",
        "n = 5\n",
        "print(arrange_coins(n))\n"
      ],
      "metadata": {
        "colab": {
          "base_uri": "https://localhost:8080/"
        },
        "id": "GIOZ36xqym1U",
        "outputId": "479ad766-05a5-4866-e327-37ef8ced5423"
      },
      "execution_count": 3,
      "outputs": [
        {
          "output_type": "stream",
          "name": "stdout",
          "text": [
            "2\n"
          ]
        }
      ]
    },
    {
      "cell_type": "markdown",
      "source": [
        "Q.3"
      ],
      "metadata": {
        "id": "eBan6okHyoBh"
      }
    },
    {
      "cell_type": "code",
      "source": [
        "def sorted_squares(nums):\n",
        "    squared_nums = [num * num for num in nums]\n",
        "    squared_nums.sort()\n",
        "    return squared_nums\n",
        "nums = [-4, -1, 0, 3, 10]\n",
        "print(sorted_squares(nums))\n"
      ],
      "metadata": {
        "colab": {
          "base_uri": "https://localhost:8080/"
        },
        "id": "usbX8YxAyog-",
        "outputId": "b6e34897-0cb3-4f05-8b89-6a0ddea46fe3"
      },
      "execution_count": 4,
      "outputs": [
        {
          "output_type": "stream",
          "name": "stdout",
          "text": [
            "[0, 1, 9, 16, 100]\n"
          ]
        }
      ]
    },
    {
      "cell_type": "markdown",
      "source": [
        "Q.4"
      ],
      "metadata": {
        "id": "XVBgzD-Tyos2"
      }
    },
    {
      "cell_type": "code",
      "source": [
        "def find_disjoint_nums(nums1, nums2):\n",
        "    set1 = set(nums1)\n",
        "    set2 = set(nums2)\n",
        "    result = [[num for num in nums1 if num not in set2], [num for num in nums2 if num not in set1]]\n",
        "    return result\n",
        "nums1 = [1, 2, 3]\n",
        "nums2 = [2, 4, 6]\n",
        "print(find_disjoint_nums(nums1, nums2))\n"
      ],
      "metadata": {
        "colab": {
          "base_uri": "https://localhost:8080/"
        },
        "id": "UYT8hwR-yo4G",
        "outputId": "525abd50-5ebd-4bee-b30f-ff0d0843e45a"
      },
      "execution_count": 5,
      "outputs": [
        {
          "output_type": "stream",
          "name": "stdout",
          "text": [
            "[[1, 3], [4, 6]]\n"
          ]
        }
      ]
    },
    {
      "cell_type": "markdown",
      "source": [
        "Q.5"
      ],
      "metadata": {
        "id": "CkbnNztXypD1"
      }
    },
    {
      "cell_type": "code",
      "source": [
        "def find_distance_value(arr1, arr2, d):\n",
        "    distance = 0\n",
        "\n",
        "    for num1 in arr1:\n",
        "        valid = True\n",
        "        for num2 in arr2:\n",
        "            if abs(num1 - num2) <= d:\n",
        "                valid = False\n",
        "                break\n",
        "\n",
        "        if valid:\n",
        "            distance += 1\n",
        "\n",
        "    return distance\n",
        "arr1 = [4, 5, 8]\n",
        "arr2 = [10, 9, 1, 8]\n",
        "d = 2\n",
        "print(find_distance_value(arr1, arr2, d))\n"
      ],
      "metadata": {
        "colab": {
          "base_uri": "https://localhost:8080/"
        },
        "id": "SpaTjnHsypON",
        "outputId": "88bc3bb0-4451-4327-f135-c3d0c15599b2"
      },
      "execution_count": 6,
      "outputs": [
        {
          "output_type": "stream",
          "name": "stdout",
          "text": [
            "2\n"
          ]
        }
      ]
    },
    {
      "cell_type": "markdown",
      "source": [
        "Q.6"
      ],
      "metadata": {
        "id": "KaB8nUx1yppF"
      }
    },
    {
      "cell_type": "code",
      "source": [
        "def find_duplicates(nums):\n",
        "    duplicates = []\n",
        "\n",
        "    for num in nums:\n",
        "        index = abs(num) - 1\n",
        "        if nums[index] < 0:\n",
        "            duplicates.append(abs(num))\n",
        "        else:\n",
        "            nums[index] = -nums[index]\n",
        "\n",
        "    return duplicates\n",
        "nums = [4, 3, 2, 7, 8, 2, 3, 1]\n",
        "print(find_duplicates(nums))\n"
      ],
      "metadata": {
        "colab": {
          "base_uri": "https://localhost:8080/"
        },
        "id": "ey5_uE7Uyp1c",
        "outputId": "488e4438-0842-430c-9c8c-39f816c69252"
      },
      "execution_count": 7,
      "outputs": [
        {
          "output_type": "stream",
          "name": "stdout",
          "text": [
            "[2, 3]\n"
          ]
        }
      ]
    },
    {
      "cell_type": "markdown",
      "source": [
        "Q.7"
      ],
      "metadata": {
        "id": "zrPQoh9gJ9yE"
      }
    },
    {
      "cell_type": "code",
      "source": [
        "def find_minimum(nums):\n",
        "    left = 0\n",
        "    right = len(nums) - 1\n",
        "\n",
        "    while left < right:\n",
        "        mid = left + (right - left) // 2\n",
        "\n",
        "        if nums[mid] > nums[right]:\n",
        "            left = mid + 1\n",
        "        else:\n",
        "            right = mid\n",
        "\n",
        "    return nums[left]\n",
        "nums = [3, 4, 5, 1, 2]\n",
        "print(find_minimum(nums))\n"
      ],
      "metadata": {
        "colab": {
          "base_uri": "https://localhost:8080/"
        },
        "id": "xdkKomhuJ_Ay",
        "outputId": "8b8467d8-cf20-4d9d-dbce-b626bcd11ece"
      },
      "execution_count": 8,
      "outputs": [
        {
          "output_type": "stream",
          "name": "stdout",
          "text": [
            "1\n"
          ]
        }
      ]
    },
    {
      "cell_type": "markdown",
      "source": [
        "Q.8"
      ],
      "metadata": {
        "id": "jpoIMkOBKLGe"
      }
    },
    {
      "cell_type": "code",
      "source": [
        "from collections import Counter\n",
        "\n",
        "def findOriginalArray(changed):\n",
        "    # Count the occurrences of each element in the changed array\n",
        "    c = Counter(changed)\n",
        "\n",
        "    # Check if the count of 0 is even\n",
        "    zeros, m = divmod(c[0], 2)\n",
        "    if m:\n",
        "        return []\n",
        "\n",
        "    ans = [0] * zeros  # Create a list with zeros based on count of 0\n",
        "\n",
        "    # Iterateing through the sorted keys of the counter\n",
        "    for n in sorted(c.keys()):\n",
        "        # Check if count of n is greater than count of 2*n\n",
        "        if c[n] > c[2 * n]:\n",
        "            return []\n",
        "\n",
        "        # Subtracting the count of n from count of 2*n and update the counter\n",
        "        c[2 * n] -= c[n]\n",
        "\n",
        "        # Extending the list with n repeated c[n] times\n",
        "        ans.extend([n] * c[n])\n",
        "\n",
        "    return ans\n",
        "\n",
        "changed = [1, 3, 4, 2, 6, 8]\n",
        "original = findOriginalArray(changed)\n",
        "print(original)\n"
      ],
      "metadata": {
        "colab": {
          "base_uri": "https://localhost:8080/"
        },
        "id": "jAryQ9BGNL99",
        "outputId": "c64ec4fd-9626-4d64-8432-3c62baf160b0"
      },
      "execution_count": 18,
      "outputs": [
        {
          "output_type": "stream",
          "name": "stdout",
          "text": [
            "[1, 3, 4]\n"
          ]
        }
      ]
    }
  ]
}